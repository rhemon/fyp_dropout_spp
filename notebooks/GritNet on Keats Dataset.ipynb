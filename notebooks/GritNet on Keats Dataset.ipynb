{
 "cells": [
  {
   "cell_type": "code",
   "execution_count": 20,
   "id": "21b31c9f",
   "metadata": {},
   "outputs": [],
   "source": [
    "import numpy as np\n",
    "import pandas as pd\n",
    "import datetime\n",
    "\n",
    "START_TIME = datetime.datetime(2021, 4, 1, 0, 0)\n",
    "TIME_OHV_LENGTH = 788\n",
    "EVENT_OHV_LENGTH = 324\n",
    "\n",
    "keatsLogs = pd.read_csv('../raw_data_sets/KEATS Dataset/KEATS_logs.csv')\n",
    "finalMarks = pd.read_csv('../raw_data_sets/KEATS Dataset/finalMarksv8.csv')\n",
    "\n",
    "event_contexts = keatsLogs['Event context']\n",
    "component = keatsLogs['Component']\n",
    "event_name = keatsLogs['Event name']\n",
    "event_time = keatsLogs['Time']\n",
    "keatsLogs['Time'] = pd.to_datetime(keatsLogs['Time'], dayfirst=True)\n",
    "\n",
    "UNIQUE_EVENTS = sorted(list((event_contexts + '-' + component + '-'+ event_name).unique()))\n",
    "\n",
    "def convert_time_to_index(event_time):\n",
    "    delta = event_time - START_TIME\n",
    "    hours = (delta.total_seconds())/3600.0\n",
    "    index = int(hours//6)\n",
    "    return index\n",
    "\n",
    "def convert_event_to_index(event):\n",
    "    if event not in UNIQUE_EVENTS:\n",
    "        raise Exception(\"Event\", event, \"passed doesn't seem to exist in the UNIQUE EVENT array\")\n",
    "    \n",
    "    return UNIQUE_EVENTS.index(event)    \n",
    "\n",
    "def get_final_mark(sid):\n",
    "    \n",
    "    target = torch.zeros((1,))\n",
    "    target[0] = int((finalMarks[finalMarks['Id'] == sid ].get('Final') >= 40).item())\n",
    "    \n",
    "    return target\n",
    "\n",
    "def create_record(sid):\n",
    "    student_activities = keatsLogs[keatsLogs['Id'] == sid]\n",
    "    if len(student_activities) == 0:\n",
    "        return None\n",
    "    student_activities = student_activities.sort_values(by=[\"Time\"]).reset_index(drop=True)\n",
    "#     print(len(student_activities))\n",
    "    # For now only taking final mark in consideration\n",
    "    target = get_final_mark(sid)\n",
    "    \n",
    "    ohv_input = np.zeros((len(student_activities), EVENT_OHV_LENGTH+TIME_OHV_LENGTH))\n",
    "    \n",
    "    for i, each in student_activities.iterrows():\n",
    "        event = each['Event context'] + '-' + each['Component'] + '-' + each['Event name']\n",
    "        event_time = each['Time']\n",
    "        event_index = convert_event_to_index(event)\n",
    "        event_time_index = EVENT_OHV_LENGTH + convert_time_to_index(event_time)\n",
    "        ohv_input[i, event_index] = 1\n",
    "        ohv_input[i, event_time_index] = 1\n",
    "    \n",
    "    return (ohv_input, target)\n",
    "\n",
    "\n",
    "def create_record_torch(sid):\n",
    "    student_activities = keatsLogs[keatsLogs['Id'] == sid]\n",
    "    if len(student_activities) == 0:\n",
    "        return None\n",
    "    student_activities = student_activities.sort_values(by=[\"Time\"]).reset_index(drop=True)\n",
    "#     print(len(student_activities))\n",
    "    # For now only taking final mark in consideration\n",
    "    target = get_final_mark(sid)\n",
    "    \n",
    "    ohv_input = torch.zeros((len(student_activities), EVENT_OHV_LENGTH+TIME_OHV_LENGTH))\n",
    "    \n",
    "    for i, each in student_activities.iterrows():\n",
    "        event = each['Event context'] + '-' + each['Component'] + '-' + each['Event name']\n",
    "        event_time = each['Time']\n",
    "        event_index = convert_event_to_index(event)\n",
    "        event_time_index = EVENT_OHV_LENGTH + convert_time_to_index(event_time)\n",
    "        ohv_input[i, event_index] = 1\n",
    "        ohv_input[i, event_time_index] = 1\n",
    "    \n",
    "    return (ohv_input, target)\n",
    "\n",
    "def create_bow_record(sid):\n",
    "    student_activities = keatsLogs[keatsLogs['Id'] == sid]\n",
    "    \n",
    "#     if len(student_activities) == 0:\n",
    "#         return None\n",
    "    \n",
    "    target = get_final_mark(sid)\n",
    "    \n",
    "    bow = np.zeros((EVENT_OHV_LENGTH,))\n",
    "    \n",
    "    for i, each in student_activities.iterrows():    \n",
    "        event = each['Event context'] + '-' + each['Component'] + '-' + each['Event name']\n",
    "        event_index = convert_event_to_index(event)\n",
    "        bow[event_index] +=  1\n",
    "    \n",
    "    return (bow, target)\n",
    "    \n",
    "\n",
    "def create_dataset():\n",
    "    \n",
    "    ids = finalMarks['Id'].unique()\n",
    "    \n",
    "    ohvs = []\n",
    "    targets = []\n",
    "    for i in ids:\n",
    "        step = create_record(i)\n",
    "       \n",
    "        if step is not None:\n",
    "            ohv, y = step\n",
    "            ohvs.append(ohv)\n",
    "            targets.append(y)\n",
    "            \n",
    "    ohvs = np.stack(ohvs, axis=0)\n",
    "    targets = np.concatenate(targets, axis=0)\n",
    "    \n",
    "    return ohvs, targets\n",
    "\n",
    "def create_dataset_stack():\n",
    "    \n",
    "    ids = finalMarks['Id'].unique()\n",
    "    \n",
    "    ohvs = []\n",
    "    targets = []\n",
    "    max_t_step = 0\n",
    "    for i in ids:\n",
    "        step = create_record_torch(i)\n",
    "           \n",
    "        if step is not None:\n",
    "            ohv, y = step\n",
    "            ohvs.append(ohv)\n",
    "            if ohv.size(0) > max_t_step:\n",
    "                max_t_step = ohv.size(0)\n",
    "            targets.append(y)\n",
    "            \n",
    "    inputs = torch.zeros((max_t_step, len(ohvs), ohvs[0].size(1)))\n",
    "    for i, ohv in enumerate(ohvs):\n",
    "        inputs[:ohv.size(0), i, :] = ohv[:, :]\n",
    "    targets = torch.cat(targets, axis=0)\n",
    "    \n",
    "    return inputs, targets\n",
    "    \n",
    "def create_bow_dataset():\n",
    "    \n",
    "    ids = finalMarks['Id'].unique()\n",
    "    \n",
    "    bows = []\n",
    "    targets = []\n",
    "    for sid in ids:\n",
    "        step = create_bow_record(sid)\n",
    "        if step is not None:\n",
    "            bows.append(step[0])\n",
    "            targets.append(step[1])\n",
    "    \n",
    "    bows = np.stack(bows, axis=0)\n",
    "    targets = np.concatenate(targets, axis=0)\n",
    "    \n",
    "    return bows, targets"
   ]
  },
  {
   "cell_type": "code",
   "execution_count": 1,
   "id": "e291e8cb",
   "metadata": {},
   "outputs": [
    {
     "ename": "ModuleNotFoundError",
     "evalue": "No module named 'torch'",
     "output_type": "error",
     "traceback": [
      "\u001b[1;31m---------------------------------------------------------------------------\u001b[0m",
      "\u001b[1;31mModuleNotFoundError\u001b[0m                       Traceback (most recent call last)",
      "\u001b[1;32m~\\AppData\\Local\\Temp/ipykernel_6904/429654336.py\u001b[0m in \u001b[0;36m<module>\u001b[1;34m\u001b[0m\n\u001b[1;32m----> 1\u001b[1;33m \u001b[1;32mimport\u001b[0m \u001b[0mtorch\u001b[0m\u001b[1;33m\u001b[0m\u001b[1;33m\u001b[0m\u001b[0m\n\u001b[0m\u001b[0;32m      2\u001b[0m \u001b[1;32mimport\u001b[0m \u001b[0mtorch\u001b[0m\u001b[1;33m.\u001b[0m\u001b[0mnn\u001b[0m \u001b[1;32mas\u001b[0m \u001b[0mnn\u001b[0m\u001b[1;33m\u001b[0m\u001b[1;33m\u001b[0m\u001b[0m\n\u001b[0;32m      3\u001b[0m \u001b[1;32mimport\u001b[0m \u001b[0mtorch\u001b[0m\u001b[1;33m.\u001b[0m\u001b[0mnn\u001b[0m\u001b[1;33m.\u001b[0m\u001b[0mfunctional\u001b[0m \u001b[1;32mas\u001b[0m \u001b[0mF\u001b[0m\u001b[1;33m\u001b[0m\u001b[1;33m\u001b[0m\u001b[0m\n\u001b[0;32m      4\u001b[0m \u001b[1;33m\u001b[0m\u001b[0m\n\u001b[0;32m      5\u001b[0m \u001b[1;33m\u001b[0m\u001b[0m\n",
      "\u001b[1;31mModuleNotFoundError\u001b[0m: No module named 'torch'"
     ]
    }
   ],
   "source": [
    "import torch\n",
    "import torch.nn as nn\n",
    "import torch.nn.functional as F\n",
    "\n",
    "\n",
    "\n",
    "class GritNet(nn.Module):\n",
    "\n",
    "    def __init__(self, embedding_dim, hidden_dim, input_size, target_size):\n",
    "        \n",
    "        super(GritNet, self).__init__()\n",
    "        self.hidden_dim = hidden_dim\n",
    "        self.embeddings = nn.Embedding(1112, 2048)\n",
    "\n",
    "        self.blstm = nn.LSTM(2048, 128, bidirectional=True)\n",
    "\n",
    "        self.dense = nn.Linear(hidden_dim*2, target_size)\n",
    "    \n",
    "    def forward(self, x):\n",
    "        embed = self.embedding(x)\n",
    "        h0 = torch.zeros(2, embed.size(1), self.hidden_dim)\n",
    "        c0 = torch.zeros(2, embed.size(1), self.hidden_dim)\n",
    "\n",
    "        blstm_output, _ = self.blstm(embed, (h0, c0))\n",
    "\n",
    "        gmp_output = torch.max(blstm_output, 0)\n",
    "\n",
    "        return nn.Sigmoid(self.dense(gmp_output))\n",
    "\n"
   ]
  },
  {
   "cell_type": "code",
   "execution_count": 28,
   "id": "59d29f9e",
   "metadata": {},
   "outputs": [],
   "source": [
    "inputs, targets = create_dataset_stack()"
   ]
  },
  {
   "cell_type": "code",
   "execution_count": 29,
   "id": "347f2be6",
   "metadata": {},
   "outputs": [
    {
     "data": {
      "text/plain": [
       "torch.Size([823, 415, 1112])"
      ]
     },
     "execution_count": 29,
     "metadata": {},
     "output_type": "execute_result"
    }
   ],
   "source": [
    "inputs.shape"
   ]
  },
  {
   "cell_type": "code",
   "execution_count": 30,
   "id": "2425fc13",
   "metadata": {},
   "outputs": [
    {
     "data": {
      "text/plain": [
       "torch.Size([415])"
      ]
     },
     "execution_count": 30,
     "metadata": {},
     "output_type": "execute_result"
    }
   ],
   "source": [
    "targets.shape"
   ]
  },
  {
   "cell_type": "code",
   "execution_count": 31,
   "id": "ad6fcf3e",
   "metadata": {},
   "outputs": [
    {
     "ename": "TypeError",
     "evalue": "empty(): argument 'size' must be tuple of ints, but found element of type tuple at pos 2",
     "output_type": "error",
     "traceback": [
      "\u001b[1;31m---------------------------------------------------------------------------\u001b[0m",
      "\u001b[1;31mTypeError\u001b[0m                                 Traceback (most recent call last)",
      "\u001b[1;32m~\\AppData\\Local\\Temp/ipykernel_32788/481101190.py\u001b[0m in \u001b[0;36m<module>\u001b[1;34m\u001b[0m\n\u001b[1;32m----> 1\u001b[1;33m \u001b[0mgrit_net_model\u001b[0m \u001b[1;33m=\u001b[0m \u001b[0mGritNet\u001b[0m\u001b[1;33m(\u001b[0m\u001b[1;36m1024\u001b[0m\u001b[1;33m,\u001b[0m \u001b[1;36m128\u001b[0m\u001b[1;33m,\u001b[0m \u001b[1;33m(\u001b[0m\u001b[1;32mNone\u001b[0m\u001b[1;33m,\u001b[0m \u001b[1;36m32\u001b[0m\u001b[1;33m,\u001b[0m \u001b[1;36m1024\u001b[0m\u001b[1;33m)\u001b[0m\u001b[1;33m,\u001b[0m \u001b[1;36m1\u001b[0m\u001b[1;33m)\u001b[0m\u001b[1;33m\u001b[0m\u001b[1;33m\u001b[0m\u001b[0m\n\u001b[0m",
      "\u001b[1;32m~\\AppData\\Local\\Temp/ipykernel_32788/1625393001.py\u001b[0m in \u001b[0;36m__init__\u001b[1;34m(self, embedding_dim, hidden_dim, input_size, target_size)\u001b[0m\n\u001b[0;32m     13\u001b[0m         \u001b[0mself\u001b[0m\u001b[1;33m.\u001b[0m\u001b[0membeddings\u001b[0m \u001b[1;33m=\u001b[0m \u001b[0mnn\u001b[0m\u001b[1;33m.\u001b[0m\u001b[0mEmbedding\u001b[0m\u001b[1;33m(\u001b[0m\u001b[1;36m1112\u001b[0m\u001b[1;33m,\u001b[0m \u001b[0membedding_dim\u001b[0m\u001b[1;33m)\u001b[0m\u001b[1;33m\u001b[0m\u001b[1;33m\u001b[0m\u001b[0m\n\u001b[0;32m     14\u001b[0m \u001b[1;33m\u001b[0m\u001b[0m\n\u001b[1;32m---> 15\u001b[1;33m         \u001b[0mself\u001b[0m\u001b[1;33m.\u001b[0m\u001b[0mblstm\u001b[0m \u001b[1;33m=\u001b[0m \u001b[0mnn\u001b[0m\u001b[1;33m.\u001b[0m\u001b[0mLSTM\u001b[0m\u001b[1;33m(\u001b[0m\u001b[0minput_size\u001b[0m\u001b[1;33m,\u001b[0m \u001b[0mhidden_dim\u001b[0m\u001b[1;33m,\u001b[0m \u001b[0mbidirectional\u001b[0m\u001b[1;33m=\u001b[0m\u001b[1;32mTrue\u001b[0m\u001b[1;33m)\u001b[0m\u001b[1;33m\u001b[0m\u001b[1;33m\u001b[0m\u001b[0m\n\u001b[0m\u001b[0;32m     16\u001b[0m \u001b[1;33m\u001b[0m\u001b[0m\n\u001b[0;32m     17\u001b[0m         \u001b[0mself\u001b[0m\u001b[1;33m.\u001b[0m\u001b[0mdense\u001b[0m \u001b[1;33m=\u001b[0m \u001b[0mnn\u001b[0m\u001b[1;33m.\u001b[0m\u001b[0mLinear\u001b[0m\u001b[1;33m(\u001b[0m\u001b[0mhidden_dim\u001b[0m\u001b[1;33m*\u001b[0m\u001b[1;36m2\u001b[0m\u001b[1;33m,\u001b[0m \u001b[0mtarget_size\u001b[0m\u001b[1;33m)\u001b[0m\u001b[1;33m\u001b[0m\u001b[1;33m\u001b[0m\u001b[0m\n",
      "\u001b[1;32mc:\\users\\rhemo\\anaconda3\\envs\\py3\\lib\\site-packages\\torch\\nn\\modules\\rnn.py\u001b[0m in \u001b[0;36m__init__\u001b[1;34m(self, *args, **kwargs)\u001b[0m\n\u001b[0;32m    611\u001b[0m \u001b[1;33m\u001b[0m\u001b[0m\n\u001b[0;32m    612\u001b[0m     \u001b[1;32mdef\u001b[0m \u001b[0m__init__\u001b[0m\u001b[1;33m(\u001b[0m\u001b[0mself\u001b[0m\u001b[1;33m,\u001b[0m \u001b[1;33m*\u001b[0m\u001b[0margs\u001b[0m\u001b[1;33m,\u001b[0m \u001b[1;33m**\u001b[0m\u001b[0mkwargs\u001b[0m\u001b[1;33m)\u001b[0m\u001b[1;33m:\u001b[0m\u001b[1;33m\u001b[0m\u001b[1;33m\u001b[0m\u001b[0m\n\u001b[1;32m--> 613\u001b[1;33m         \u001b[0msuper\u001b[0m\u001b[1;33m(\u001b[0m\u001b[0mLSTM\u001b[0m\u001b[1;33m,\u001b[0m \u001b[0mself\u001b[0m\u001b[1;33m)\u001b[0m\u001b[1;33m.\u001b[0m\u001b[0m__init__\u001b[0m\u001b[1;33m(\u001b[0m\u001b[1;34m'LSTM'\u001b[0m\u001b[1;33m,\u001b[0m \u001b[1;33m*\u001b[0m\u001b[0margs\u001b[0m\u001b[1;33m,\u001b[0m \u001b[1;33m**\u001b[0m\u001b[0mkwargs\u001b[0m\u001b[1;33m)\u001b[0m\u001b[1;33m\u001b[0m\u001b[1;33m\u001b[0m\u001b[0m\n\u001b[0m\u001b[0;32m    614\u001b[0m \u001b[1;33m\u001b[0m\u001b[0m\n\u001b[0;32m    615\u001b[0m     \u001b[1;32mdef\u001b[0m \u001b[0mget_expected_cell_size\u001b[0m\u001b[1;33m(\u001b[0m\u001b[0mself\u001b[0m\u001b[1;33m,\u001b[0m \u001b[0minput\u001b[0m\u001b[1;33m:\u001b[0m \u001b[0mTensor\u001b[0m\u001b[1;33m,\u001b[0m \u001b[0mbatch_sizes\u001b[0m\u001b[1;33m:\u001b[0m \u001b[0mOptional\u001b[0m\u001b[1;33m[\u001b[0m\u001b[0mTensor\u001b[0m\u001b[1;33m]\u001b[0m\u001b[1;33m)\u001b[0m \u001b[1;33m->\u001b[0m \u001b[0mTuple\u001b[0m\u001b[1;33m[\u001b[0m\u001b[0mint\u001b[0m\u001b[1;33m,\u001b[0m \u001b[0mint\u001b[0m\u001b[1;33m,\u001b[0m \u001b[0mint\u001b[0m\u001b[1;33m]\u001b[0m\u001b[1;33m:\u001b[0m\u001b[1;33m\u001b[0m\u001b[1;33m\u001b[0m\u001b[0m\n",
      "\u001b[1;32mc:\\users\\rhemo\\anaconda3\\envs\\py3\\lib\\site-packages\\torch\\nn\\modules\\rnn.py\u001b[0m in \u001b[0;36m__init__\u001b[1;34m(self, mode, input_size, hidden_size, num_layers, bias, batch_first, dropout, bidirectional, proj_size, device, dtype)\u001b[0m\n\u001b[0;32m     87\u001b[0m                 \u001b[0mlayer_input_size\u001b[0m \u001b[1;33m=\u001b[0m \u001b[0minput_size\u001b[0m \u001b[1;32mif\u001b[0m \u001b[0mlayer\u001b[0m \u001b[1;33m==\u001b[0m \u001b[1;36m0\u001b[0m \u001b[1;32melse\u001b[0m \u001b[0mreal_hidden_size\u001b[0m \u001b[1;33m*\u001b[0m \u001b[0mnum_directions\u001b[0m\u001b[1;33m\u001b[0m\u001b[1;33m\u001b[0m\u001b[0m\n\u001b[0;32m     88\u001b[0m \u001b[1;33m\u001b[0m\u001b[0m\n\u001b[1;32m---> 89\u001b[1;33m                 \u001b[0mw_ih\u001b[0m \u001b[1;33m=\u001b[0m \u001b[0mParameter\u001b[0m\u001b[1;33m(\u001b[0m\u001b[0mtorch\u001b[0m\u001b[1;33m.\u001b[0m\u001b[0mempty\u001b[0m\u001b[1;33m(\u001b[0m\u001b[1;33m(\u001b[0m\u001b[0mgate_size\u001b[0m\u001b[1;33m,\u001b[0m \u001b[0mlayer_input_size\u001b[0m\u001b[1;33m)\u001b[0m\u001b[1;33m,\u001b[0m \u001b[1;33m**\u001b[0m\u001b[0mfactory_kwargs\u001b[0m\u001b[1;33m)\u001b[0m\u001b[1;33m)\u001b[0m\u001b[1;33m\u001b[0m\u001b[1;33m\u001b[0m\u001b[0m\n\u001b[0m\u001b[0;32m     90\u001b[0m                 \u001b[0mw_hh\u001b[0m \u001b[1;33m=\u001b[0m \u001b[0mParameter\u001b[0m\u001b[1;33m(\u001b[0m\u001b[0mtorch\u001b[0m\u001b[1;33m.\u001b[0m\u001b[0mempty\u001b[0m\u001b[1;33m(\u001b[0m\u001b[1;33m(\u001b[0m\u001b[0mgate_size\u001b[0m\u001b[1;33m,\u001b[0m \u001b[0mreal_hidden_size\u001b[0m\u001b[1;33m)\u001b[0m\u001b[1;33m,\u001b[0m \u001b[1;33m**\u001b[0m\u001b[0mfactory_kwargs\u001b[0m\u001b[1;33m)\u001b[0m\u001b[1;33m)\u001b[0m\u001b[1;33m\u001b[0m\u001b[1;33m\u001b[0m\u001b[0m\n\u001b[0;32m     91\u001b[0m                 \u001b[0mb_ih\u001b[0m \u001b[1;33m=\u001b[0m \u001b[0mParameter\u001b[0m\u001b[1;33m(\u001b[0m\u001b[0mtorch\u001b[0m\u001b[1;33m.\u001b[0m\u001b[0mempty\u001b[0m\u001b[1;33m(\u001b[0m\u001b[0mgate_size\u001b[0m\u001b[1;33m,\u001b[0m \u001b[1;33m**\u001b[0m\u001b[0mfactory_kwargs\u001b[0m\u001b[1;33m)\u001b[0m\u001b[1;33m)\u001b[0m\u001b[1;33m\u001b[0m\u001b[1;33m\u001b[0m\u001b[0m\n",
      "\u001b[1;31mTypeError\u001b[0m: empty(): argument 'size' must be tuple of ints, but found element of type tuple at pos 2"
     ]
    }
   ],
   "source": [
    "grit_net_model = GritNet(1024, 128, (None, 32, 1024), 1)"
   ]
  },
  {
   "cell_type": "code",
   "execution_count": null,
   "id": "8f9289a6",
   "metadata": {},
   "outputs": [],
   "source": []
  }
 ],
 "metadata": {
  "kernelspec": {
   "display_name": "Python 3 (ipykernel)",
   "language": "python",
   "name": "python3"
  },
  "language_info": {
   "codemirror_mode": {
    "name": "ipython",
    "version": 3
   },
   "file_extension": ".py",
   "mimetype": "text/x-python",
   "name": "python",
   "nbconvert_exporter": "python",
   "pygments_lexer": "ipython3",
   "version": "3.8.11"
  }
 },
 "nbformat": 4,
 "nbformat_minor": 5
}
