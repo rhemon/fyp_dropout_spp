{
  "nbformat": 4,
  "nbformat_minor": 0,
  "metadata": {
    "colab": {
      "name": "MNIST Gradient Based Dropout.ipynb",
      "provenance": [],
      "collapsed_sections": [],
      "toc_visible": true
    },
    "kernelspec": {
      "name": "python3",
      "display_name": "Python 3"
    },
    "language_info": {
      "name": "python"
    },
    "accelerator": "GPU",
    "widgets": {
      "application/vnd.jupyter.widget-state+json": {
        "be869ae000f24ee48271e13d9c6e6f13": {
          "model_module": "@jupyter-widgets/controls",
          "model_name": "HBoxModel",
          "model_module_version": "1.5.0",
          "state": {
            "_dom_classes": [],
            "_model_module": "@jupyter-widgets/controls",
            "_model_module_version": "1.5.0",
            "_model_name": "HBoxModel",
            "_view_count": null,
            "_view_module": "@jupyter-widgets/controls",
            "_view_module_version": "1.5.0",
            "_view_name": "HBoxView",
            "box_style": "",
            "children": [
              "IPY_MODEL_5caa67944fbd494d9d0112e11e3fd497",
              "IPY_MODEL_3b550a40bfde418097a905a23b8db886",
              "IPY_MODEL_b28bb1b9fcdb40a19181f74f487a62da"
            ],
            "layout": "IPY_MODEL_13f2925d34cf447f8d68fc5f7e9d83db"
          }
        },
        "5caa67944fbd494d9d0112e11e3fd497": {
          "model_module": "@jupyter-widgets/controls",
          "model_name": "HTMLModel",
          "model_module_version": "1.5.0",
          "state": {
            "_dom_classes": [],
            "_model_module": "@jupyter-widgets/controls",
            "_model_module_version": "1.5.0",
            "_model_name": "HTMLModel",
            "_view_count": null,
            "_view_module": "@jupyter-widgets/controls",
            "_view_module_version": "1.5.0",
            "_view_name": "HTMLView",
            "description": "",
            "description_tooltip": null,
            "layout": "IPY_MODEL_0837a78126984d2faca954f3fabf6aed",
            "placeholder": "​",
            "style": "IPY_MODEL_f71957ffc5d24c2da2cfc2923e7d408a",
            "value": ""
          }
        },
        "3b550a40bfde418097a905a23b8db886": {
          "model_module": "@jupyter-widgets/controls",
          "model_name": "FloatProgressModel",
          "model_module_version": "1.5.0",
          "state": {
            "_dom_classes": [],
            "_model_module": "@jupyter-widgets/controls",
            "_model_module_version": "1.5.0",
            "_model_name": "FloatProgressModel",
            "_view_count": null,
            "_view_module": "@jupyter-widgets/controls",
            "_view_module_version": "1.5.0",
            "_view_name": "ProgressView",
            "bar_style": "success",
            "description": "",
            "description_tooltip": null,
            "layout": "IPY_MODEL_ce91530a6cce4c64aadcd86e2d763811",
            "max": 9912422,
            "min": 0,
            "orientation": "horizontal",
            "style": "IPY_MODEL_4a98dfd4b35648d585461d19ccfedb5c",
            "value": 9912422
          }
        },
        "b28bb1b9fcdb40a19181f74f487a62da": {
          "model_module": "@jupyter-widgets/controls",
          "model_name": "HTMLModel",
          "model_module_version": "1.5.0",
          "state": {
            "_dom_classes": [],
            "_model_module": "@jupyter-widgets/controls",
            "_model_module_version": "1.5.0",
            "_model_name": "HTMLModel",
            "_view_count": null,
            "_view_module": "@jupyter-widgets/controls",
            "_view_module_version": "1.5.0",
            "_view_name": "HTMLView",
            "description": "",
            "description_tooltip": null,
            "layout": "IPY_MODEL_c2ad4d9d80be4586be2bd93560c71be6",
            "placeholder": "​",
            "style": "IPY_MODEL_914af195c72e44e0828bdbb5b66722a4",
            "value": " 9913344/? [00:00&lt;00:00, 20809912.06it/s]"
          }
        },
        "13f2925d34cf447f8d68fc5f7e9d83db": {
          "model_module": "@jupyter-widgets/base",
          "model_name": "LayoutModel",
          "model_module_version": "1.2.0",
          "state": {
            "_model_module": "@jupyter-widgets/base",
            "_model_module_version": "1.2.0",
            "_model_name": "LayoutModel",
            "_view_count": null,
            "_view_module": "@jupyter-widgets/base",
            "_view_module_version": "1.2.0",
            "_view_name": "LayoutView",
            "align_content": null,
            "align_items": null,
            "align_self": null,
            "border": null,
            "bottom": null,
            "display": null,
            "flex": null,
            "flex_flow": null,
            "grid_area": null,
            "grid_auto_columns": null,
            "grid_auto_flow": null,
            "grid_auto_rows": null,
            "grid_column": null,
            "grid_gap": null,
            "grid_row": null,
            "grid_template_areas": null,
            "grid_template_columns": null,
            "grid_template_rows": null,
            "height": null,
            "justify_content": null,
            "justify_items": null,
            "left": null,
            "margin": null,
            "max_height": null,
            "max_width": null,
            "min_height": null,
            "min_width": null,
            "object_fit": null,
            "object_position": null,
            "order": null,
            "overflow": null,
            "overflow_x": null,
            "overflow_y": null,
            "padding": null,
            "right": null,
            "top": null,
            "visibility": null,
            "width": null
          }
        },
        "0837a78126984d2faca954f3fabf6aed": {
          "model_module": "@jupyter-widgets/base",
          "model_name": "LayoutModel",
          "model_module_version": "1.2.0",
          "state": {
            "_model_module": "@jupyter-widgets/base",
            "_model_module_version": "1.2.0",
            "_model_name": "LayoutModel",
            "_view_count": null,
            "_view_module": "@jupyter-widgets/base",
            "_view_module_version": "1.2.0",
            "_view_name": "LayoutView",
            "align_content": null,
            "align_items": null,
            "align_self": null,
            "border": null,
            "bottom": null,
            "display": null,
            "flex": null,
            "flex_flow": null,
            "grid_area": null,
            "grid_auto_columns": null,
            "grid_auto_flow": null,
            "grid_auto_rows": null,
            "grid_column": null,
            "grid_gap": null,
            "grid_row": null,
            "grid_template_areas": null,
            "grid_template_columns": null,
            "grid_template_rows": null,
            "height": null,
            "justify_content": null,
            "justify_items": null,
            "left": null,
            "margin": null,
            "max_height": null,
            "max_width": null,
            "min_height": null,
            "min_width": null,
            "object_fit": null,
            "object_position": null,
            "order": null,
            "overflow": null,
            "overflow_x": null,
            "overflow_y": null,
            "padding": null,
            "right": null,
            "top": null,
            "visibility": null,
            "width": null
          }
        },
        "f71957ffc5d24c2da2cfc2923e7d408a": {
          "model_module": "@jupyter-widgets/controls",
          "model_name": "DescriptionStyleModel",
          "model_module_version": "1.5.0",
          "state": {
            "_model_module": "@jupyter-widgets/controls",
            "_model_module_version": "1.5.0",
            "_model_name": "DescriptionStyleModel",
            "_view_count": null,
            "_view_module": "@jupyter-widgets/base",
            "_view_module_version": "1.2.0",
            "_view_name": "StyleView",
            "description_width": ""
          }
        },
        "ce91530a6cce4c64aadcd86e2d763811": {
          "model_module": "@jupyter-widgets/base",
          "model_name": "LayoutModel",
          "model_module_version": "1.2.0",
          "state": {
            "_model_module": "@jupyter-widgets/base",
            "_model_module_version": "1.2.0",
            "_model_name": "LayoutModel",
            "_view_count": null,
            "_view_module": "@jupyter-widgets/base",
            "_view_module_version": "1.2.0",
            "_view_name": "LayoutView",
            "align_content": null,
            "align_items": null,
            "align_self": null,
            "border": null,
            "bottom": null,
            "display": null,
            "flex": null,
            "flex_flow": null,
            "grid_area": null,
            "grid_auto_columns": null,
            "grid_auto_flow": null,
            "grid_auto_rows": null,
            "grid_column": null,
            "grid_gap": null,
            "grid_row": null,
            "grid_template_areas": null,
            "grid_template_columns": null,
            "grid_template_rows": null,
            "height": null,
            "justify_content": null,
            "justify_items": null,
            "left": null,
            "margin": null,
            "max_height": null,
            "max_width": null,
            "min_height": null,
            "min_width": null,
            "object_fit": null,
            "object_position": null,
            "order": null,
            "overflow": null,
            "overflow_x": null,
            "overflow_y": null,
            "padding": null,
            "right": null,
            "top": null,
            "visibility": null,
            "width": null
          }
        },
        "4a98dfd4b35648d585461d19ccfedb5c": {
          "model_module": "@jupyter-widgets/controls",
          "model_name": "ProgressStyleModel",
          "model_module_version": "1.5.0",
          "state": {
            "_model_module": "@jupyter-widgets/controls",
            "_model_module_version": "1.5.0",
            "_model_name": "ProgressStyleModel",
            "_view_count": null,
            "_view_module": "@jupyter-widgets/base",
            "_view_module_version": "1.2.0",
            "_view_name": "StyleView",
            "bar_color": null,
            "description_width": ""
          }
        },
        "c2ad4d9d80be4586be2bd93560c71be6": {
          "model_module": "@jupyter-widgets/base",
          "model_name": "LayoutModel",
          "model_module_version": "1.2.0",
          "state": {
            "_model_module": "@jupyter-widgets/base",
            "_model_module_version": "1.2.0",
            "_model_name": "LayoutModel",
            "_view_count": null,
            "_view_module": "@jupyter-widgets/base",
            "_view_module_version": "1.2.0",
            "_view_name": "LayoutView",
            "align_content": null,
            "align_items": null,
            "align_self": null,
            "border": null,
            "bottom": null,
            "display": null,
            "flex": null,
            "flex_flow": null,
            "grid_area": null,
            "grid_auto_columns": null,
            "grid_auto_flow": null,
            "grid_auto_rows": null,
            "grid_column": null,
            "grid_gap": null,
            "grid_row": null,
            "grid_template_areas": null,
            "grid_template_columns": null,
            "grid_template_rows": null,
            "height": null,
            "justify_content": null,
            "justify_items": null,
            "left": null,
            "margin": null,
            "max_height": null,
            "max_width": null,
            "min_height": null,
            "min_width": null,
            "object_fit": null,
            "object_position": null,
            "order": null,
            "overflow": null,
            "overflow_x": null,
            "overflow_y": null,
            "padding": null,
            "right": null,
            "top": null,
            "visibility": null,
            "width": null
          }
        },
        "914af195c72e44e0828bdbb5b66722a4": {
          "model_module": "@jupyter-widgets/controls",
          "model_name": "DescriptionStyleModel",
          "model_module_version": "1.5.0",
          "state": {
            "_model_module": "@jupyter-widgets/controls",
            "_model_module_version": "1.5.0",
            "_model_name": "DescriptionStyleModel",
            "_view_count": null,
            "_view_module": "@jupyter-widgets/base",
            "_view_module_version": "1.2.0",
            "_view_name": "StyleView",
            "description_width": ""
          }
        },
        "d9b6cf2f91a94190809d529bd118d318": {
          "model_module": "@jupyter-widgets/controls",
          "model_name": "HBoxModel",
          "model_module_version": "1.5.0",
          "state": {
            "_dom_classes": [],
            "_model_module": "@jupyter-widgets/controls",
            "_model_module_version": "1.5.0",
            "_model_name": "HBoxModel",
            "_view_count": null,
            "_view_module": "@jupyter-widgets/controls",
            "_view_module_version": "1.5.0",
            "_view_name": "HBoxView",
            "box_style": "",
            "children": [
              "IPY_MODEL_0f722179cc3c442390d764102f49b08a",
              "IPY_MODEL_f7171c5ee88645eb8e2e329a635ddc64",
              "IPY_MODEL_2fa0b7bd621b4c8ba8b4eae00671a06f"
            ],
            "layout": "IPY_MODEL_c16d9092a61545b2898abf7d74d07f27"
          }
        },
        "0f722179cc3c442390d764102f49b08a": {
          "model_module": "@jupyter-widgets/controls",
          "model_name": "HTMLModel",
          "model_module_version": "1.5.0",
          "state": {
            "_dom_classes": [],
            "_model_module": "@jupyter-widgets/controls",
            "_model_module_version": "1.5.0",
            "_model_name": "HTMLModel",
            "_view_count": null,
            "_view_module": "@jupyter-widgets/controls",
            "_view_module_version": "1.5.0",
            "_view_name": "HTMLView",
            "description": "",
            "description_tooltip": null,
            "layout": "IPY_MODEL_1e3abed755084f2dbab081e912dcf9ad",
            "placeholder": "​",
            "style": "IPY_MODEL_ff1e8d2530e647e988bdec6feac579ce",
            "value": ""
          }
        },
        "f7171c5ee88645eb8e2e329a635ddc64": {
          "model_module": "@jupyter-widgets/controls",
          "model_name": "FloatProgressModel",
          "model_module_version": "1.5.0",
          "state": {
            "_dom_classes": [],
            "_model_module": "@jupyter-widgets/controls",
            "_model_module_version": "1.5.0",
            "_model_name": "FloatProgressModel",
            "_view_count": null,
            "_view_module": "@jupyter-widgets/controls",
            "_view_module_version": "1.5.0",
            "_view_name": "ProgressView",
            "bar_style": "success",
            "description": "",
            "description_tooltip": null,
            "layout": "IPY_MODEL_1d0c2a3815f142ff9f724c1913c6c1a8",
            "max": 28881,
            "min": 0,
            "orientation": "horizontal",
            "style": "IPY_MODEL_10e5312dd76048cea6d09355f3259418",
            "value": 28881
          }
        },
        "2fa0b7bd621b4c8ba8b4eae00671a06f": {
          "model_module": "@jupyter-widgets/controls",
          "model_name": "HTMLModel",
          "model_module_version": "1.5.0",
          "state": {
            "_dom_classes": [],
            "_model_module": "@jupyter-widgets/controls",
            "_model_module_version": "1.5.0",
            "_model_name": "HTMLModel",
            "_view_count": null,
            "_view_module": "@jupyter-widgets/controls",
            "_view_module_version": "1.5.0",
            "_view_name": "HTMLView",
            "description": "",
            "description_tooltip": null,
            "layout": "IPY_MODEL_a7dceff45fd44996bdc71f608f305ef6",
            "placeholder": "​",
            "style": "IPY_MODEL_857b35432bfb41da9599c90f53935db7",
            "value": " 29696/? [00:00&lt;00:00, 665363.50it/s]"
          }
        },
        "c16d9092a61545b2898abf7d74d07f27": {
          "model_module": "@jupyter-widgets/base",
          "model_name": "LayoutModel",
          "model_module_version": "1.2.0",
          "state": {
            "_model_module": "@jupyter-widgets/base",
            "_model_module_version": "1.2.0",
            "_model_name": "LayoutModel",
            "_view_count": null,
            "_view_module": "@jupyter-widgets/base",
            "_view_module_version": "1.2.0",
            "_view_name": "LayoutView",
            "align_content": null,
            "align_items": null,
            "align_self": null,
            "border": null,
            "bottom": null,
            "display": null,
            "flex": null,
            "flex_flow": null,
            "grid_area": null,
            "grid_auto_columns": null,
            "grid_auto_flow": null,
            "grid_auto_rows": null,
            "grid_column": null,
            "grid_gap": null,
            "grid_row": null,
            "grid_template_areas": null,
            "grid_template_columns": null,
            "grid_template_rows": null,
            "height": null,
            "justify_content": null,
            "justify_items": null,
            "left": null,
            "margin": null,
            "max_height": null,
            "max_width": null,
            "min_height": null,
            "min_width": null,
            "object_fit": null,
            "object_position": null,
            "order": null,
            "overflow": null,
            "overflow_x": null,
            "overflow_y": null,
            "padding": null,
            "right": null,
            "top": null,
            "visibility": null,
            "width": null
          }
        },
        "1e3abed755084f2dbab081e912dcf9ad": {
          "model_module": "@jupyter-widgets/base",
          "model_name": "LayoutModel",
          "model_module_version": "1.2.0",
          "state": {
            "_model_module": "@jupyter-widgets/base",
            "_model_module_version": "1.2.0",
            "_model_name": "LayoutModel",
            "_view_count": null,
            "_view_module": "@jupyter-widgets/base",
            "_view_module_version": "1.2.0",
            "_view_name": "LayoutView",
            "align_content": null,
            "align_items": null,
            "align_self": null,
            "border": null,
            "bottom": null,
            "display": null,
            "flex": null,
            "flex_flow": null,
            "grid_area": null,
            "grid_auto_columns": null,
            "grid_auto_flow": null,
            "grid_auto_rows": null,
            "grid_column": null,
            "grid_gap": null,
            "grid_row": null,
            "grid_template_areas": null,
            "grid_template_columns": null,
            "grid_template_rows": null,
            "height": null,
            "justify_content": null,
            "justify_items": null,
            "left": null,
            "margin": null,
            "max_height": null,
            "max_width": null,
            "min_height": null,
            "min_width": null,
            "object_fit": null,
            "object_position": null,
            "order": null,
            "overflow": null,
            "overflow_x": null,
            "overflow_y": null,
            "padding": null,
            "right": null,
            "top": null,
            "visibility": null,
            "width": null
          }
        },
        "ff1e8d2530e647e988bdec6feac579ce": {
          "model_module": "@jupyter-widgets/controls",
          "model_name": "DescriptionStyleModel",
          "model_module_version": "1.5.0",
          "state": {
            "_model_module": "@jupyter-widgets/controls",
            "_model_module_version": "1.5.0",
            "_model_name": "DescriptionStyleModel",
            "_view_count": null,
            "_view_module": "@jupyter-widgets/base",
            "_view_module_version": "1.2.0",
            "_view_name": "StyleView",
            "description_width": ""
          }
        },
        "1d0c2a3815f142ff9f724c1913c6c1a8": {
          "model_module": "@jupyter-widgets/base",
          "model_name": "LayoutModel",
          "model_module_version": "1.2.0",
          "state": {
            "_model_module": "@jupyter-widgets/base",
            "_model_module_version": "1.2.0",
            "_model_name": "LayoutModel",
            "_view_count": null,
            "_view_module": "@jupyter-widgets/base",
            "_view_module_version": "1.2.0",
            "_view_name": "LayoutView",
            "align_content": null,
            "align_items": null,
            "align_self": null,
            "border": null,
            "bottom": null,
            "display": null,
            "flex": null,
            "flex_flow": null,
            "grid_area": null,
            "grid_auto_columns": null,
            "grid_auto_flow": null,
            "grid_auto_rows": null,
            "grid_column": null,
            "grid_gap": null,
            "grid_row": null,
            "grid_template_areas": null,
            "grid_template_columns": null,
            "grid_template_rows": null,
            "height": null,
            "justify_content": null,
            "justify_items": null,
            "left": null,
            "margin": null,
            "max_height": null,
            "max_width": null,
            "min_height": null,
            "min_width": null,
            "object_fit": null,
            "object_position": null,
            "order": null,
            "overflow": null,
            "overflow_x": null,
            "overflow_y": null,
            "padding": null,
            "right": null,
            "top": null,
            "visibility": null,
            "width": null
          }
        },
        "10e5312dd76048cea6d09355f3259418": {
          "model_module": "@jupyter-widgets/controls",
          "model_name": "ProgressStyleModel",
          "model_module_version": "1.5.0",
          "state": {
            "_model_module": "@jupyter-widgets/controls",
            "_model_module_version": "1.5.0",
            "_model_name": "ProgressStyleModel",
            "_view_count": null,
            "_view_module": "@jupyter-widgets/base",
            "_view_module_version": "1.2.0",
            "_view_name": "StyleView",
            "bar_color": null,
            "description_width": ""
          }
        },
        "a7dceff45fd44996bdc71f608f305ef6": {
          "model_module": "@jupyter-widgets/base",
          "model_name": "LayoutModel",
          "model_module_version": "1.2.0",
          "state": {
            "_model_module": "@jupyter-widgets/base",
            "_model_module_version": "1.2.0",
            "_model_name": "LayoutModel",
            "_view_count": null,
            "_view_module": "@jupyter-widgets/base",
            "_view_module_version": "1.2.0",
            "_view_name": "LayoutView",
            "align_content": null,
            "align_items": null,
            "align_self": null,
            "border": null,
            "bottom": null,
            "display": null,
            "flex": null,
            "flex_flow": null,
            "grid_area": null,
            "grid_auto_columns": null,
            "grid_auto_flow": null,
            "grid_auto_rows": null,
            "grid_column": null,
            "grid_gap": null,
            "grid_row": null,
            "grid_template_areas": null,
            "grid_template_columns": null,
            "grid_template_rows": null,
            "height": null,
            "justify_content": null,
            "justify_items": null,
            "left": null,
            "margin": null,
            "max_height": null,
            "max_width": null,
            "min_height": null,
            "min_width": null,
            "object_fit": null,
            "object_position": null,
            "order": null,
            "overflow": null,
            "overflow_x": null,
            "overflow_y": null,
            "padding": null,
            "right": null,
            "top": null,
            "visibility": null,
            "width": null
          }
        },
        "857b35432bfb41da9599c90f53935db7": {
          "model_module": "@jupyter-widgets/controls",
          "model_name": "DescriptionStyleModel",
          "model_module_version": "1.5.0",
          "state": {
            "_model_module": "@jupyter-widgets/controls",
            "_model_module_version": "1.5.0",
            "_model_name": "DescriptionStyleModel",
            "_view_count": null,
            "_view_module": "@jupyter-widgets/base",
            "_view_module_version": "1.2.0",
            "_view_name": "StyleView",
            "description_width": ""
          }
        },
        "9afb3090152d4fe887eae05c10b2d8ee": {
          "model_module": "@jupyter-widgets/controls",
          "model_name": "HBoxModel",
          "model_module_version": "1.5.0",
          "state": {
            "_dom_classes": [],
            "_model_module": "@jupyter-widgets/controls",
            "_model_module_version": "1.5.0",
            "_model_name": "HBoxModel",
            "_view_count": null,
            "_view_module": "@jupyter-widgets/controls",
            "_view_module_version": "1.5.0",
            "_view_name": "HBoxView",
            "box_style": "",
            "children": [
              "IPY_MODEL_b4075b19a3bc43a7b85ec3d7b92dae3a",
              "IPY_MODEL_901267d843c6459396c3a43209afa2e9",
              "IPY_MODEL_23fd7c078e334c57a5acba68f392ae3c"
            ],
            "layout": "IPY_MODEL_6fd837967316423d8acde68ff3c0ef22"
          }
        },
        "b4075b19a3bc43a7b85ec3d7b92dae3a": {
          "model_module": "@jupyter-widgets/controls",
          "model_name": "HTMLModel",
          "model_module_version": "1.5.0",
          "state": {
            "_dom_classes": [],
            "_model_module": "@jupyter-widgets/controls",
            "_model_module_version": "1.5.0",
            "_model_name": "HTMLModel",
            "_view_count": null,
            "_view_module": "@jupyter-widgets/controls",
            "_view_module_version": "1.5.0",
            "_view_name": "HTMLView",
            "description": "",
            "description_tooltip": null,
            "layout": "IPY_MODEL_3763f85c5fe247c89f049a04fa9a6dd4",
            "placeholder": "​",
            "style": "IPY_MODEL_9f9d0df80aba473788682cb3bf1b8fe7",
            "value": ""
          }
        },
        "901267d843c6459396c3a43209afa2e9": {
          "model_module": "@jupyter-widgets/controls",
          "model_name": "FloatProgressModel",
          "model_module_version": "1.5.0",
          "state": {
            "_dom_classes": [],
            "_model_module": "@jupyter-widgets/controls",
            "_model_module_version": "1.5.0",
            "_model_name": "FloatProgressModel",
            "_view_count": null,
            "_view_module": "@jupyter-widgets/controls",
            "_view_module_version": "1.5.0",
            "_view_name": "ProgressView",
            "bar_style": "success",
            "description": "",
            "description_tooltip": null,
            "layout": "IPY_MODEL_6f599064d36543028a5fbc9925b576c3",
            "max": 1648877,
            "min": 0,
            "orientation": "horizontal",
            "style": "IPY_MODEL_6513d3fac6fb4a8d8e8e499e1e54f4a3",
            "value": 1648877
          }
        },
        "23fd7c078e334c57a5acba68f392ae3c": {
          "model_module": "@jupyter-widgets/controls",
          "model_name": "HTMLModel",
          "model_module_version": "1.5.0",
          "state": {
            "_dom_classes": [],
            "_model_module": "@jupyter-widgets/controls",
            "_model_module_version": "1.5.0",
            "_model_name": "HTMLModel",
            "_view_count": null,
            "_view_module": "@jupyter-widgets/controls",
            "_view_module_version": "1.5.0",
            "_view_name": "HTMLView",
            "description": "",
            "description_tooltip": null,
            "layout": "IPY_MODEL_b948361b468b439b8de73862eebd9428",
            "placeholder": "​",
            "style": "IPY_MODEL_67f9b0dc55df4a22ab47fcfb654fe9ef",
            "value": " 1649664/? [00:00&lt;00:00, 2490764.35it/s]"
          }
        },
        "6fd837967316423d8acde68ff3c0ef22": {
          "model_module": "@jupyter-widgets/base",
          "model_name": "LayoutModel",
          "model_module_version": "1.2.0",
          "state": {
            "_model_module": "@jupyter-widgets/base",
            "_model_module_version": "1.2.0",
            "_model_name": "LayoutModel",
            "_view_count": null,
            "_view_module": "@jupyter-widgets/base",
            "_view_module_version": "1.2.0",
            "_view_name": "LayoutView",
            "align_content": null,
            "align_items": null,
            "align_self": null,
            "border": null,
            "bottom": null,
            "display": null,
            "flex": null,
            "flex_flow": null,
            "grid_area": null,
            "grid_auto_columns": null,
            "grid_auto_flow": null,
            "grid_auto_rows": null,
            "grid_column": null,
            "grid_gap": null,
            "grid_row": null,
            "grid_template_areas": null,
            "grid_template_columns": null,
            "grid_template_rows": null,
            "height": null,
            "justify_content": null,
            "justify_items": null,
            "left": null,
            "margin": null,
            "max_height": null,
            "max_width": null,
            "min_height": null,
            "min_width": null,
            "object_fit": null,
            "object_position": null,
            "order": null,
            "overflow": null,
            "overflow_x": null,
            "overflow_y": null,
            "padding": null,
            "right": null,
            "top": null,
            "visibility": null,
            "width": null
          }
        },
        "3763f85c5fe247c89f049a04fa9a6dd4": {
          "model_module": "@jupyter-widgets/base",
          "model_name": "LayoutModel",
          "model_module_version": "1.2.0",
          "state": {
            "_model_module": "@jupyter-widgets/base",
            "_model_module_version": "1.2.0",
            "_model_name": "LayoutModel",
            "_view_count": null,
            "_view_module": "@jupyter-widgets/base",
            "_view_module_version": "1.2.0",
            "_view_name": "LayoutView",
            "align_content": null,
            "align_items": null,
            "align_self": null,
            "border": null,
            "bottom": null,
            "display": null,
            "flex": null,
            "flex_flow": null,
            "grid_area": null,
            "grid_auto_columns": null,
            "grid_auto_flow": null,
            "grid_auto_rows": null,
            "grid_column": null,
            "grid_gap": null,
            "grid_row": null,
            "grid_template_areas": null,
            "grid_template_columns": null,
            "grid_template_rows": null,
            "height": null,
            "justify_content": null,
            "justify_items": null,
            "left": null,
            "margin": null,
            "max_height": null,
            "max_width": null,
            "min_height": null,
            "min_width": null,
            "object_fit": null,
            "object_position": null,
            "order": null,
            "overflow": null,
            "overflow_x": null,
            "overflow_y": null,
            "padding": null,
            "right": null,
            "top": null,
            "visibility": null,
            "width": null
          }
        },
        "9f9d0df80aba473788682cb3bf1b8fe7": {
          "model_module": "@jupyter-widgets/controls",
          "model_name": "DescriptionStyleModel",
          "model_module_version": "1.5.0",
          "state": {
            "_model_module": "@jupyter-widgets/controls",
            "_model_module_version": "1.5.0",
            "_model_name": "DescriptionStyleModel",
            "_view_count": null,
            "_view_module": "@jupyter-widgets/base",
            "_view_module_version": "1.2.0",
            "_view_name": "StyleView",
            "description_width": ""
          }
        },
        "6f599064d36543028a5fbc9925b576c3": {
          "model_module": "@jupyter-widgets/base",
          "model_name": "LayoutModel",
          "model_module_version": "1.2.0",
          "state": {
            "_model_module": "@jupyter-widgets/base",
            "_model_module_version": "1.2.0",
            "_model_name": "LayoutModel",
            "_view_count": null,
            "_view_module": "@jupyter-widgets/base",
            "_view_module_version": "1.2.0",
            "_view_name": "LayoutView",
            "align_content": null,
            "align_items": null,
            "align_self": null,
            "border": null,
            "bottom": null,
            "display": null,
            "flex": null,
            "flex_flow": null,
            "grid_area": null,
            "grid_auto_columns": null,
            "grid_auto_flow": null,
            "grid_auto_rows": null,
            "grid_column": null,
            "grid_gap": null,
            "grid_row": null,
            "grid_template_areas": null,
            "grid_template_columns": null,
            "grid_template_rows": null,
            "height": null,
            "justify_content": null,
            "justify_items": null,
            "left": null,
            "margin": null,
            "max_height": null,
            "max_width": null,
            "min_height": null,
            "min_width": null,
            "object_fit": null,
            "object_position": null,
            "order": null,
            "overflow": null,
            "overflow_x": null,
            "overflow_y": null,
            "padding": null,
            "right": null,
            "top": null,
            "visibility": null,
            "width": null
          }
        },
        "6513d3fac6fb4a8d8e8e499e1e54f4a3": {
          "model_module": "@jupyter-widgets/controls",
          "model_name": "ProgressStyleModel",
          "model_module_version": "1.5.0",
          "state": {
            "_model_module": "@jupyter-widgets/controls",
            "_model_module_version": "1.5.0",
            "_model_name": "ProgressStyleModel",
            "_view_count": null,
            "_view_module": "@jupyter-widgets/base",
            "_view_module_version": "1.2.0",
            "_view_name": "StyleView",
            "bar_color": null,
            "description_width": ""
          }
        },
        "b948361b468b439b8de73862eebd9428": {
          "model_module": "@jupyter-widgets/base",
          "model_name": "LayoutModel",
          "model_module_version": "1.2.0",
          "state": {
            "_model_module": "@jupyter-widgets/base",
            "_model_module_version": "1.2.0",
            "_model_name": "LayoutModel",
            "_view_count": null,
            "_view_module": "@jupyter-widgets/base",
            "_view_module_version": "1.2.0",
            "_view_name": "LayoutView",
            "align_content": null,
            "align_items": null,
            "align_self": null,
            "border": null,
            "bottom": null,
            "display": null,
            "flex": null,
            "flex_flow": null,
            "grid_area": null,
            "grid_auto_columns": null,
            "grid_auto_flow": null,
            "grid_auto_rows": null,
            "grid_column": null,
            "grid_gap": null,
            "grid_row": null,
            "grid_template_areas": null,
            "grid_template_columns": null,
            "grid_template_rows": null,
            "height": null,
            "justify_content": null,
            "justify_items": null,
            "left": null,
            "margin": null,
            "max_height": null,
            "max_width": null,
            "min_height": null,
            "min_width": null,
            "object_fit": null,
            "object_position": null,
            "order": null,
            "overflow": null,
            "overflow_x": null,
            "overflow_y": null,
            "padding": null,
            "right": null,
            "top": null,
            "visibility": null,
            "width": null
          }
        },
        "67f9b0dc55df4a22ab47fcfb654fe9ef": {
          "model_module": "@jupyter-widgets/controls",
          "model_name": "DescriptionStyleModel",
          "model_module_version": "1.5.0",
          "state": {
            "_model_module": "@jupyter-widgets/controls",
            "_model_module_version": "1.5.0",
            "_model_name": "DescriptionStyleModel",
            "_view_count": null,
            "_view_module": "@jupyter-widgets/base",
            "_view_module_version": "1.2.0",
            "_view_name": "StyleView",
            "description_width": ""
          }
        },
        "c4bcb54ba6eb4b1b9fb17ca90e677435": {
          "model_module": "@jupyter-widgets/controls",
          "model_name": "HBoxModel",
          "model_module_version": "1.5.0",
          "state": {
            "_dom_classes": [],
            "_model_module": "@jupyter-widgets/controls",
            "_model_module_version": "1.5.0",
            "_model_name": "HBoxModel",
            "_view_count": null,
            "_view_module": "@jupyter-widgets/controls",
            "_view_module_version": "1.5.0",
            "_view_name": "HBoxView",
            "box_style": "",
            "children": [
              "IPY_MODEL_ecfe4e8f397745958b264812adb2d780",
              "IPY_MODEL_f137f7992d8745879ae294a02a26b859",
              "IPY_MODEL_a8bd5c104f054140ab58704b311b1225"
            ],
            "layout": "IPY_MODEL_90d3818849b347d78122e5d67d584d3d"
          }
        },
        "ecfe4e8f397745958b264812adb2d780": {
          "model_module": "@jupyter-widgets/controls",
          "model_name": "HTMLModel",
          "model_module_version": "1.5.0",
          "state": {
            "_dom_classes": [],
            "_model_module": "@jupyter-widgets/controls",
            "_model_module_version": "1.5.0",
            "_model_name": "HTMLModel",
            "_view_count": null,
            "_view_module": "@jupyter-widgets/controls",
            "_view_module_version": "1.5.0",
            "_view_name": "HTMLView",
            "description": "",
            "description_tooltip": null,
            "layout": "IPY_MODEL_4683f828b41341b8b7a8560cd142efbf",
            "placeholder": "​",
            "style": "IPY_MODEL_78e0727077094af6a82515fcb1e9c008",
            "value": ""
          }
        },
        "f137f7992d8745879ae294a02a26b859": {
          "model_module": "@jupyter-widgets/controls",
          "model_name": "FloatProgressModel",
          "model_module_version": "1.5.0",
          "state": {
            "_dom_classes": [],
            "_model_module": "@jupyter-widgets/controls",
            "_model_module_version": "1.5.0",
            "_model_name": "FloatProgressModel",
            "_view_count": null,
            "_view_module": "@jupyter-widgets/controls",
            "_view_module_version": "1.5.0",
            "_view_name": "ProgressView",
            "bar_style": "success",
            "description": "",
            "description_tooltip": null,
            "layout": "IPY_MODEL_79eaaf946c75497b918eb096f30552df",
            "max": 4542,
            "min": 0,
            "orientation": "horizontal",
            "style": "IPY_MODEL_860ac7346b1e4f399d9c92c7e7233ba3",
            "value": 4542
          }
        },
        "a8bd5c104f054140ab58704b311b1225": {
          "model_module": "@jupyter-widgets/controls",
          "model_name": "HTMLModel",
          "model_module_version": "1.5.0",
          "state": {
            "_dom_classes": [],
            "_model_module": "@jupyter-widgets/controls",
            "_model_module_version": "1.5.0",
            "_model_name": "HTMLModel",
            "_view_count": null,
            "_view_module": "@jupyter-widgets/controls",
            "_view_module_version": "1.5.0",
            "_view_name": "HTMLView",
            "description": "",
            "description_tooltip": null,
            "layout": "IPY_MODEL_00a3533959ca42ff8b76966049fdaf0c",
            "placeholder": "​",
            "style": "IPY_MODEL_30c240744d9c4fd1b6aa37e750fb4060",
            "value": " 5120/? [00:00&lt;00:00, 116014.35it/s]"
          }
        },
        "90d3818849b347d78122e5d67d584d3d": {
          "model_module": "@jupyter-widgets/base",
          "model_name": "LayoutModel",
          "model_module_version": "1.2.0",
          "state": {
            "_model_module": "@jupyter-widgets/base",
            "_model_module_version": "1.2.0",
            "_model_name": "LayoutModel",
            "_view_count": null,
            "_view_module": "@jupyter-widgets/base",
            "_view_module_version": "1.2.0",
            "_view_name": "LayoutView",
            "align_content": null,
            "align_items": null,
            "align_self": null,
            "border": null,
            "bottom": null,
            "display": null,
            "flex": null,
            "flex_flow": null,
            "grid_area": null,
            "grid_auto_columns": null,
            "grid_auto_flow": null,
            "grid_auto_rows": null,
            "grid_column": null,
            "grid_gap": null,
            "grid_row": null,
            "grid_template_areas": null,
            "grid_template_columns": null,
            "grid_template_rows": null,
            "height": null,
            "justify_content": null,
            "justify_items": null,
            "left": null,
            "margin": null,
            "max_height": null,
            "max_width": null,
            "min_height": null,
            "min_width": null,
            "object_fit": null,
            "object_position": null,
            "order": null,
            "overflow": null,
            "overflow_x": null,
            "overflow_y": null,
            "padding": null,
            "right": null,
            "top": null,
            "visibility": null,
            "width": null
          }
        },
        "4683f828b41341b8b7a8560cd142efbf": {
          "model_module": "@jupyter-widgets/base",
          "model_name": "LayoutModel",
          "model_module_version": "1.2.0",
          "state": {
            "_model_module": "@jupyter-widgets/base",
            "_model_module_version": "1.2.0",
            "_model_name": "LayoutModel",
            "_view_count": null,
            "_view_module": "@jupyter-widgets/base",
            "_view_module_version": "1.2.0",
            "_view_name": "LayoutView",
            "align_content": null,
            "align_items": null,
            "align_self": null,
            "border": null,
            "bottom": null,
            "display": null,
            "flex": null,
            "flex_flow": null,
            "grid_area": null,
            "grid_auto_columns": null,
            "grid_auto_flow": null,
            "grid_auto_rows": null,
            "grid_column": null,
            "grid_gap": null,
            "grid_row": null,
            "grid_template_areas": null,
            "grid_template_columns": null,
            "grid_template_rows": null,
            "height": null,
            "justify_content": null,
            "justify_items": null,
            "left": null,
            "margin": null,
            "max_height": null,
            "max_width": null,
            "min_height": null,
            "min_width": null,
            "object_fit": null,
            "object_position": null,
            "order": null,
            "overflow": null,
            "overflow_x": null,
            "overflow_y": null,
            "padding": null,
            "right": null,
            "top": null,
            "visibility": null,
            "width": null
          }
        },
        "78e0727077094af6a82515fcb1e9c008": {
          "model_module": "@jupyter-widgets/controls",
          "model_name": "DescriptionStyleModel",
          "model_module_version": "1.5.0",
          "state": {
            "_model_module": "@jupyter-widgets/controls",
            "_model_module_version": "1.5.0",
            "_model_name": "DescriptionStyleModel",
            "_view_count": null,
            "_view_module": "@jupyter-widgets/base",
            "_view_module_version": "1.2.0",
            "_view_name": "StyleView",
            "description_width": ""
          }
        },
        "79eaaf946c75497b918eb096f30552df": {
          "model_module": "@jupyter-widgets/base",
          "model_name": "LayoutModel",
          "model_module_version": "1.2.0",
          "state": {
            "_model_module": "@jupyter-widgets/base",
            "_model_module_version": "1.2.0",
            "_model_name": "LayoutModel",
            "_view_count": null,
            "_view_module": "@jupyter-widgets/base",
            "_view_module_version": "1.2.0",
            "_view_name": "LayoutView",
            "align_content": null,
            "align_items": null,
            "align_self": null,
            "border": null,
            "bottom": null,
            "display": null,
            "flex": null,
            "flex_flow": null,
            "grid_area": null,
            "grid_auto_columns": null,
            "grid_auto_flow": null,
            "grid_auto_rows": null,
            "grid_column": null,
            "grid_gap": null,
            "grid_row": null,
            "grid_template_areas": null,
            "grid_template_columns": null,
            "grid_template_rows": null,
            "height": null,
            "justify_content": null,
            "justify_items": null,
            "left": null,
            "margin": null,
            "max_height": null,
            "max_width": null,
            "min_height": null,
            "min_width": null,
            "object_fit": null,
            "object_position": null,
            "order": null,
            "overflow": null,
            "overflow_x": null,
            "overflow_y": null,
            "padding": null,
            "right": null,
            "top": null,
            "visibility": null,
            "width": null
          }
        },
        "860ac7346b1e4f399d9c92c7e7233ba3": {
          "model_module": "@jupyter-widgets/controls",
          "model_name": "ProgressStyleModel",
          "model_module_version": "1.5.0",
          "state": {
            "_model_module": "@jupyter-widgets/controls",
            "_model_module_version": "1.5.0",
            "_model_name": "ProgressStyleModel",
            "_view_count": null,
            "_view_module": "@jupyter-widgets/base",
            "_view_module_version": "1.2.0",
            "_view_name": "StyleView",
            "bar_color": null,
            "description_width": ""
          }
        },
        "00a3533959ca42ff8b76966049fdaf0c": {
          "model_module": "@jupyter-widgets/base",
          "model_name": "LayoutModel",
          "model_module_version": "1.2.0",
          "state": {
            "_model_module": "@jupyter-widgets/base",
            "_model_module_version": "1.2.0",
            "_model_name": "LayoutModel",
            "_view_count": null,
            "_view_module": "@jupyter-widgets/base",
            "_view_module_version": "1.2.0",
            "_view_name": "LayoutView",
            "align_content": null,
            "align_items": null,
            "align_self": null,
            "border": null,
            "bottom": null,
            "display": null,
            "flex": null,
            "flex_flow": null,
            "grid_area": null,
            "grid_auto_columns": null,
            "grid_auto_flow": null,
            "grid_auto_rows": null,
            "grid_column": null,
            "grid_gap": null,
            "grid_row": null,
            "grid_template_areas": null,
            "grid_template_columns": null,
            "grid_template_rows": null,
            "height": null,
            "justify_content": null,
            "justify_items": null,
            "left": null,
            "margin": null,
            "max_height": null,
            "max_width": null,
            "min_height": null,
            "min_width": null,
            "object_fit": null,
            "object_position": null,
            "order": null,
            "overflow": null,
            "overflow_x": null,
            "overflow_y": null,
            "padding": null,
            "right": null,
            "top": null,
            "visibility": null,
            "width": null
          }
        },
        "30c240744d9c4fd1b6aa37e750fb4060": {
          "model_module": "@jupyter-widgets/controls",
          "model_name": "DescriptionStyleModel",
          "model_module_version": "1.5.0",
          "state": {
            "_model_module": "@jupyter-widgets/controls",
            "_model_module_version": "1.5.0",
            "_model_name": "DescriptionStyleModel",
            "_view_count": null,
            "_view_module": "@jupyter-widgets/base",
            "_view_module_version": "1.2.0",
            "_view_name": "StyleView",
            "description_width": ""
          }
        }
      }
    }
  },
  "cells": [
    {
      "cell_type": "code",
      "source": [
        "import torch\n",
        "device = torch.device('cuda' if torch.cuda.is_available() else 'cpu')"
      ],
      "metadata": {
        "id": "kWJHNPh6bwd0"
      },
      "execution_count": 1,
      "outputs": []
    },
    {
      "cell_type": "code",
      "execution_count": 2,
      "metadata": {
        "id": "Hb-lPncCa8tc"
      },
      "outputs": [],
      "source": [
        "from xml.dom.minidom import Attr\n",
        "import numpy as np\n",
        "import pandas as pd\n",
        "import datetime\n",
        "import torch\n",
        "\n",
        "from sklearn.model_selection import train_test_split\n",
        "from sklearn.utils import shuffle \n",
        "\n",
        "\n",
        "class BaseLoader:\n",
        "    \"\"\"\n",
        "    Class to laod KEATS dataset as OHV input, although actualy output is essentially indexes of the onehot vector position\n",
        "    as data will be used in a GritNet model that uses Embedding layer.\n",
        "\n",
        "    Takes in columns type and output type from cfg\n",
        "    Columns type to specify which fields to use. Output type Binary or multivariative (support not added yet) \n",
        "\n",
        "    \"\"\"    \n",
        "\n",
        "    def __init__(self, cfg, checkpoint_folder=None):\n",
        "\n",
        "        self.device = torch.device('cuda' if torch.cuda.is_available() else 'cpu')\n",
        "        \n",
        "        self.load_method = cfg.LOAD_METHOD\n",
        "        try:\n",
        "            self.class_sizes = cfg.CLASS_SPLIT\n",
        "        except AttributeError:\n",
        "            self.class_sizes = None\n",
        "        \n",
        "        \n",
        "        self.checkpoint_folder = checkpoint_folder\n",
        "\n",
        "\n",
        "    def create_dataset(self):\n",
        "        pass\n",
        "    \n",
        "    def split_class_sets(self, all_class_sets, test_split_ratio=0.2):\n",
        "        train_sets = []\n",
        "        test_sets = []\n",
        "        for class_sets in all_class_sets:\n",
        "            split = train_test_split(*class_sets, test_size=test_split_ratio, random_state=0)\n",
        "            train_split = []\n",
        "            test_split = []\n",
        "            for i in range(0, len(split), 2):\n",
        "                train_split.append(split[i])\n",
        "                test_split.append(split[i+1])\n",
        "            train_sets.append(train_split)\n",
        "            test_sets.append(test_split)\n",
        "        return train_sets, test_sets\n",
        "            \n",
        "    def oversample(self, all_class_sets, max_sample_per_class):\n",
        "        for i in range(len(all_class_sets)):\n",
        "            num_to_duplicate = max_sample_per_class - all_class_sets[i][0].shape[0]\n",
        "            if num_to_duplicate > 0:\n",
        "                indexes_to_duplicate = np.random.choice(np.arange(all_class_sets[i][0].shape[0]), size=num_to_duplicate)\n",
        "                for j in range(len(all_class_sets[i])):\n",
        "                    all_class_sets[i][j] = torch.cat([all_class_sets[i][j], all_class_sets[i][j][indexes_to_duplicate]])\n",
        "        return all_class_sets\n",
        "    \n",
        "    def combine_classes(self, all_class_sets, controlled=False):\n",
        "        dataset = [[] for i in range(len(all_class_sets[0]))]\n",
        "        \n",
        "        for i, class_set in enumerate(all_class_sets):\n",
        "            if controlled and self.class_sizes is not None:\n",
        "                class_size = self.class_sizes[i] \n",
        "                indexes = np.random.choice(np.arange(class_set[0].shape[0]), size=class_size)\n",
        "            else:\n",
        "                indexes = np.arange(class_set[0].shape[0])\n",
        "\n",
        "            for j, each in enumerate(class_set):\n",
        "                dataset[j].append(each[indexes])\n",
        "        \n",
        "        for i in range(len(dataset)):\n",
        "            dataset[i] = torch.cat(dataset[i])\n",
        "\n",
        "        return dataset\n",
        "\n",
        "    def load_dataset(self, test_split_ratio=0.2):\n",
        "        datasets = self.create_dataset() ## [x, y]\n",
        "        classes = list(datasets[-1].unique())\n",
        "        \n",
        "        ## for each class seprate [x,y] in all_class_sets\n",
        "        all_class_sets = [] \n",
        "        max_sample_per_class = 0\n",
        "        for each_class in classes:\n",
        "            class_sets = []\n",
        "            for each_dataset in datasets:\n",
        "                class_samples = each_dataset[datasets[-1] == each_class]\n",
        "                class_sets.append(class_samples)\n",
        "            all_class_sets.append(class_sets)\n",
        "            \n",
        "            if class_sets[0].shape[0] > max_sample_per_class:\n",
        "                max_sample_per_class = class_sets[0].shape[0]\n",
        "\n",
        "        train_sets, test_sets = self.split_class_sets(all_class_sets, test_split_ratio)\n",
        "        \n",
        "        if self.load_method == \"OVERSAMPLE_NON_MAX_TRAIN\":\n",
        "            max_sample_per_class = int(max_sample_per_class * (1-test_split_ratio))\n",
        "            train_sets = self.oversample(train_sets[:], max_sample_per_class)\n",
        "\n",
        "        dataset_train = shuffle(*self.combine_classes(train_sets, True), random_state=0)\n",
        "        dataset_test = shuffle(*self.combine_classes(test_sets), random_state=0)\n",
        "\n",
        "        print(\"Train:\", dataset_train[0].shape[0])\n",
        "        print(\"Test:\", dataset_test[0].shape[0])\n",
        "        print(\"Max sample per class:\", max_sample_per_class)\n",
        "\n",
        "        return dataset_train, dataset_test\n"
      ]
    },
    {
      "cell_type": "code",
      "source": [
        "import torch\n",
        "import torchvision.datasets as datasets\n",
        "from torchvision.transforms import transforms \n",
        "\n",
        "class MNISTLoader(BaseLoader):\n",
        "\n",
        "    def __init__(self, cfg, checkpoint_folder=None):\n",
        "        super(MNISTLoader, self).__init__(cfg)\n",
        "\n",
        "        self.train_data = datasets.MNIST(root='raw_data_sets/', train=True, transform=transforms.ToTensor(), download=True)\n",
        "        self.test_data = datasets.MNIST(root='raw_data_sets/', train=False, transform=transforms.ToTensor(), download=True)\n",
        "\n",
        "\n",
        "    def create_dataset(self):\n",
        "        \n",
        "        x_train, y_train = self.train_data.data, self.train_data.targets\n",
        "        x_test, y_test = self.test_data.data, self.test_data.targets\n",
        "\n",
        "        x_train = x_train.view(x_train.shape[0], -1).type(torch.FloatTensor)\n",
        "        x_test = x_test.view(x_test.shape[0], -1).type(torch.FloatTensor)\n",
        "\n",
        "        return torch.cat([x_train, x_test]).to(self.device), torch.cat([y_train, y_test]).type(torch.LongTensor).to(self.device)\n",
        "    \n",
        "    def load_dataset(self, test_split_ratio=0.2):\n",
        "        train, test = super().load_dataset(test_split_ratio)\n",
        "        return train[0], train[1], test[0], test[1]"
      ],
      "metadata": {
        "id": "1F-pLJqYbGQN"
      },
      "execution_count": 3,
      "outputs": []
    },
    {
      "cell_type": "code",
      "source": [
        "\n",
        "import datetime\n",
        "from tabnanny import check\n",
        "\n",
        "import torch\n",
        "import torch.nn as nn\n",
        "import torch.optim as optim\n",
        "from pathlib import Path\n",
        "\n",
        "import matplotlib.pyplot as plt\n",
        "import shutil\n",
        "\n",
        "class BaseModel:\n",
        "\n",
        "    def __init__(self, cfg, checkpoint_folder, dataprocessor):\n",
        "\n",
        "        self.checkpoint_folder = checkpoint_folder\n",
        "\n",
        "        self.batch_size = cfg.BATCH_SIZE\n",
        "        \n",
        "        try:\n",
        "            self.drop_prob = cfg.DROP_PROB\n",
        "        except AttributeError:\n",
        "            self.drop_prob = None\n",
        "\n",
        "        self.device = torch.device('cuda' if torch.cuda.is_available() else 'cpu')\n",
        "\n",
        "        self.lr = cfg.LR\n",
        "        self.total_epoch = cfg.EPOCH\n",
        "        self.loss_fn_name = cfg.LOSS\n",
        "        self.optim_name = cfg.OPTIMIZER\n",
        "        self.PRINT_EVERY = cfg.PRINT_EVERY\n",
        "        self.dataprocessor = dataprocessor\n",
        "        \n",
        "    def set_model(self, **kwargs):\n",
        "        raise Exception(\"Not Implemented\")\n",
        "\n",
        "    def update_per_iter(self):\n",
        "        pass\n",
        "    \n",
        "    def update_per_epoch(self):\n",
        "        pass\n",
        "\n",
        "    def train(self, train_loader):\n",
        "        \n",
        "        self.loss_fn = getattr(nn, self.loss_fn_name)()\n",
        "        self.optimizer = getattr(optim, self.optim_name)(self.model.parameters(), lr=self.lr)\n",
        "\n",
        "        ep = 1\n",
        "        print_track_step = 0\n",
        "        self.model.train()\n",
        "        all_losses = []\n",
        "        epoch_losses = []\n",
        "\n",
        "        for epoch in range(self.total_epoch):\n",
        "            batch_losses = []\n",
        "            for batch_idx, example, in enumerate(train_loader):\n",
        "                \n",
        "                result = example[-1]\n",
        "                scores = self.model(example[:-1]).squeeze(1)\n",
        "                loss = self.loss_fn(scores, result)\n",
        "                all_losses.append(loss.item())\n",
        "                batch_losses.append(loss.item())\n",
        "                self.optimizer.zero_grad()\n",
        "                loss.backward()\n",
        "\n",
        "                self.update_per_iter()\n",
        "                \n",
        "                self.optimizer.step()\n",
        "                print_track_step += 1\n",
        "                if print_track_step % self.PRINT_EVERY == 0:\n",
        "                    print(f'epoch: {epoch + 1} step: {batch_idx + 1}/{len(train_loader)} loss: {loss}')\n",
        "                    print_track_step = 0\n",
        "\n",
        "            print(f'epoch: {epoch + 1} loss: {sum(batch_losses)/len(batch_losses)}')\n",
        "            print_track_step = 0\n",
        "            checkpoint_name = self.checkpoint_folder / Path(\"checkpoint_e\"+str(epoch)+\".pt\")\n",
        "            torch.save({\n",
        "                        'epoch': epoch,\n",
        "                        'model_state_dict': self.model.state_dict(),\n",
        "                        'optimizer_state_dict': self.optimizer.state_dict(),\n",
        "                        }, checkpoint_name)\n",
        "            ep += 1\n",
        "            epoch_losses.append(sum(batch_losses)/len(batch_losses))\n",
        "            \n",
        "            self.update_per_epoch()\n",
        "\n",
        "        checkpoint_name = self.checkpoint_folder / Path(\"model.pt\")\n",
        "        torch.save({\n",
        "                    'model_state_dict': self.model.state_dict(),\n",
        "                    'optimizer_state_dict': self.optimizer.state_dict(),\n",
        "                    'all_losses': all_losses,\n",
        "                    'epoch_losses': epoch_losses,\n",
        "                    }, checkpoint_name)\n",
        "\n",
        "        plt.figure(0)          \n",
        "        plt.plot([i for i in range(len(all_losses))], all_losses)\n",
        "        plt.savefig(self.checkpoint_folder / Path(\"all_losses.png\"))\n",
        "        \n",
        "        plt.figure(1)\n",
        "        plt.plot([i for i in range(len(epoch_losses))], epoch_losses)\n",
        "        plt.savefig(self.checkpoint_folder / Path(\"epoch_losses.png\"))\n",
        "        \n",
        "\n",
        "\n",
        "    def predict(self, X, threshold=0.5):\n",
        "        pass\n",
        "\n",
        "    def fit(self, X, y_train):\n",
        "        pass"
      ],
      "metadata": {
        "id": "1C43YkIDbIap"
      },
      "execution_count": 4,
      "outputs": []
    },
    {
      "cell_type": "code",
      "source": [
        "import torch\n",
        "import torch.nn as nn\n",
        "\n",
        "\n",
        "class GradBasedDropout(nn.Module):\n",
        "    def __init__(self, input_dim, drop_prob):\n",
        "        super(GradBasedDropout, self).__init__()\n",
        "        self.keep_prob = torch.ones(input_dim).to(device)\n",
        "        self.drop_prob = drop_prob\n",
        "    \n",
        "    def update_keep_prob(self, grad, method):\n",
        "        if method == \"TANH\":\n",
        "            self.keep_prob = torch.tanh(torch.abs(grad).sum(dim=-1))\n",
        "            if self.drop_prob is not None:\n",
        "                # scale to 1-DROP_PROB to 1 if specified, else left as 0 to 1  range\n",
        "                self.keep_prob = (self.keep_prob * self.drop_prob) + (1-self.drop_prob)\n",
        "        elif method == \"ABS_NORM\":\n",
        "            grad = torch.abs(grad).sum(dim=-1)\n",
        "            self.keep_prob = (grad - torch.min(grad))/(torch.max(grad) - torch.min(grad) + 1e-7)\n",
        "            if self.drop_prob is not None:\n",
        "                # scale to 1-DROP_PROB to 1 if specified, else left as 0 to 1  range\n",
        "                self.keep_prob = (self.keep_prob * self.drop_prob) + (1-self.drop_prob)\n",
        "        elif method == \"NORM\":\n",
        "            grad = grad.sum(dim=-1)\n",
        "            self.keep_prob = (grad - torch.min(grad))/(torch.max(grad) - torch.min(grad) + 1e-7)\n",
        "            if self.drop_prob is not None:\n",
        "                # scale to 1-DROP_PROB to 1 if specified, else left as 0 to 1  range\n",
        "                self.keep_prob = (self.keep_prob * self.drop_prob) + (1-self.drop_prob)\n",
        "        \n",
        "        ## The idea is to keep neurons with higher gradients stay\n",
        "        ## and drop neurons with low gradients\n",
        "        # print(self.drop_prob)\n",
        "        # print(grad.max(), grad.min(), grad.mean())\n",
        "        # print(self.keep_prob.max(), self.keep_prob.min(), self.keep_prob.mean())\n",
        "        ## doing the opposite could be:\n",
        "        # self.keep_prob = 1-self.keep_prob\n",
        "\n",
        "    def forward(self, x):\n",
        "        keep_prob = torch.ones(x.shape).to(device) * torch.unsqueeze(self.keep_prob, dim=0) # for all batches same probability\n",
        "        keep_prob = torch.clip(keep_prob, min=0.00001, max=1)\n",
        "        mask = torch.bernoulli(keep_prob) * 1/keep_prob\n",
        "        return mask * x\n",
        "\n",
        "class LinearWithGradBasedDropout(nn.Module):\n",
        "\n",
        "    def __init__(self, input_dim, hidden_dim, dropout_prob):\n",
        "        super(LinearWithGradBasedDropout, self).__init__()\n",
        "\n",
        "        self.fc = nn.Linear(input_dim, hidden_dim)\n",
        "        self.drop = GradBasedDropout(hidden_dim, dropout_prob)\n",
        "        self.activation = nn.ReLU()\n",
        "\n",
        "    def forward(self, x):\n",
        "        return self.drop(self.activation(self.fc(x)))\n",
        "\n",
        "class LinearWithNoDropout(nn.Module):\n",
        "\n",
        "    def __init__(self, input_dim, hidden_dim):\n",
        "        super(LinearWithNoDropout, self).__init__()\n",
        "        self.fc = nn.Linear(input_dim, hidden_dim)\n",
        "        self.activation = nn.ReLU()\n",
        "    \n",
        "    def forward(self, x):\n",
        "        return self.activation(self.fc(x))\n",
        "\n",
        "class LinearModel(nn.Module):\n",
        "\n",
        "    def __init__(self, linear_layer, hidden_dim=2048, target_size=1):\n",
        "\n",
        "        super(LinearModel, self).__init__()\n",
        "        \n",
        "        self.target_size = target_size\n",
        "        \n",
        "        self.linear_layer = linear_layer\n",
        "        self.dense = nn.Linear(hidden_dim, target_size)\n",
        "        if target_size > 1:\n",
        "            self.out = nn.LogSoftmax(dim=-1)\n",
        "        else:\n",
        "            self.out = nn.Sigmoid()\n",
        "        \n",
        "    def forward(self, x):\n",
        "        x = x[0]\n",
        "        x = self.linear_layer(x)\n",
        "        return self.out(self.dense(x))"
      ],
      "metadata": {
        "id": "JpNhQie5biOD"
      },
      "execution_count": 5,
      "outputs": []
    },
    {
      "cell_type": "code",
      "source": [
        "\n",
        "class LinearModelNoDropout(BaseModel):\n",
        "\n",
        "    def __init__(self, cfg, train_path, input_dim, dataprocessor, hidden_dim=2048):\n",
        "        super(LinearModelNoDropout, self).__init__(cfg, train_path, dataprocessor)\n",
        "        \n",
        "        target_size = 1\n",
        "        if cfg.OUTPUT_TYPE == \"GRADE\":\n",
        "            target_size = 5\n",
        "        elif cfg.OUTPUT_TYPE == \"NUMBERS\":\n",
        "            target_size = 10\n",
        "        self.set_model(input_dim, hidden_dim, target_size)\n",
        "\n",
        "    def set_model(self, input_dim, hidden_dim, target_size):\n",
        "        layer = LinearWithNoDropout(input_dim, hidden_dim).to(self.device)\n",
        "        self.model = LinearModel(layer, hidden_dim, target_size).to(self.device)\n",
        "\n",
        "    def predict(self, X, threshold=0.5):\n",
        "        y_preds = []\n",
        "\n",
        "        with torch.no_grad():\n",
        "            self.model.eval()    \n",
        "            for i in range(0,X.shape[0], self.batch_size):\n",
        "                y_preds.append(self.model((X[i:min(X.shape[0], i+self.batch_size)],)))\n",
        "\n",
        "        if y_preds[0].shape[-1] > 1:\n",
        "            yp = torch.argmax(torch.cat(y_preds, dim=0), dim=1).cpu()\n",
        "            return yp\n",
        "\n",
        "        return torch.squeeze(torch.cat(y_preds,dim=0).cpu() > threshold, 1)\n",
        "\n",
        "    def fit(self, X, y_train):\n",
        "        train_dataset = torch.utils.data.TensorDataset(X, y_train)\n",
        "        train_loader = torch.utils.data.DataLoader(train_dataset, batch_size=self.batch_size)\n",
        "\n",
        "        self.train(train_loader)\n"
      ],
      "metadata": {
        "id": "wvlzPkOab3L8"
      },
      "execution_count": 6,
      "outputs": []
    },
    {
      "cell_type": "code",
      "source": [
        "\n",
        "from sklearn.metrics import accuracy_score, confusion_matrix, f1_score, precision_score, recall_score, roc_auc_score\n",
        "from imblearn.metrics import geometric_mean_score as gmean_score\n",
        "\n",
        "def confusion_matrix_dict(y_predicted, y_target):\n",
        "    cm = confusion_matrix(y_target, y_predicted)\n",
        "    return f\"Confusion matrix = {cm}\\n\"\n",
        "    \n",
        "\n",
        "def get_f1_score(y_predicted, y_target):\n",
        "    return f\"F1 Score = {f1_score(y_target, y_predicted, average='macro')}\\n\"\n",
        "    \n",
        "def get_precision(y_predicted, y_target):\n",
        "    return f\"Precision = {precision_score(y_target, y_predicted, average='macro')}\\n\"\n",
        "\n",
        "def get_recall(y_predicted, y_target): ### TODO: UAR consideration\n",
        "    return f\"Recall = {recall_score(y_target, y_predicted, average='macro')}\\n\"\n",
        "\n",
        "def get_roc_auc(y_predicted, y_target):\n",
        "    return f\"ROC AUC = {roc_auc_score(y_target, y_predicted)}\\n\"\n",
        "\n",
        "def get_gmean(y_predicted, y_target):\n",
        "    return f\"Geometric Mean = {gmean_score(y_target, y_predicted)}\\n\"\n",
        "\n",
        "def get_accuracy(y_predicted, y_target):\n",
        "    return f\"Accuracy = {accuracy_score(y_target, y_predicted)}\\n\"\n",
        "\n",
        "def get_evaluation_methods(cfg):\n",
        "    evaluation_methods = cfg.EVALUATION_METHODS\n",
        "    methods = []\n",
        "    for each in evaluation_methods:\n",
        "        if each == \"CONFUSION_MATRIX\":\n",
        "            methods.append(confusion_matrix_dict)\n",
        "        elif each == \"ACCURACY\":\n",
        "            methods.append(get_accuracy)\n",
        "        elif each == \"F1_SCORE\":\n",
        "            methods.append(get_f1_score)\n",
        "        elif each == \"PRECISION\":\n",
        "            methods.append(get_precision)\n",
        "        elif each == \"RECALL\" or each == \"UAR\":\n",
        "            methods.append(get_recall)\n",
        "        elif each == \"GMEAN\":\n",
        "            methods.append(get_gmean)\n",
        "        else:\n",
        "            raise Exception(f\"Requested evaluation method {each} is not supported\")\n",
        "    return methods \n",
        "\n",
        "def evaluate(cfg, model, X_train, X_test, y_train, y_test):\n",
        "    evaluation_methods = get_evaluation_methods(cfg)\n",
        "    evaluation_result = \"Train\\n\"\n",
        "    for each_method in evaluation_methods:\n",
        "        y_preds = model.predict(X_train)\n",
        "        evaluation_result += each_method(y_preds, y_train.cpu())\n",
        "    evaluation_result += \"\\n\\nTest\\n\"\n",
        "    for each_method in evaluation_methods:\n",
        "        y_preds = model.predict(X_test)\n",
        "        evaluation_result += each_method(y_preds, y_test.cpu())\n",
        "    print(evaluation_result)\n"
      ],
      "metadata": {
        "id": "eg1MGGz3tyHq"
      },
      "execution_count": 7,
      "outputs": []
    },
    {
      "cell_type": "code",
      "source": [
        "# Seed \n",
        "torch.manual_seed(123)\n",
        "torch.cuda.manual_seed(123)\n",
        "np.random.seed(123)\n"
      ],
      "metadata": {
        "id": "hqe8qBX0evq4"
      },
      "execution_count": 8,
      "outputs": []
    },
    {
      "cell_type": "markdown",
      "source": [
        "## No Dropout"
      ],
      "metadata": {
        "id": "DtYSgSK8qDSW"
      }
    },
    {
      "cell_type": "code",
      "source": [
        "cfg = {\n",
        "    'OUTPUT_TYPE': 'NUMBERS', \n",
        "    'PROB_METHOD': 'NORM',\n",
        "    'DROP_PROB': 0.2,\n",
        "    'LOSS': 'NLLLoss',\n",
        "    'OPTIMIZER': 'SGD',\n",
        "    'PRINT_EVERY': 1000,\n",
        "    'LR': 0.001,\n",
        "    'EPOCH': 10,\n",
        "    'LOAD_METHOD': 'ORIGINAL',\n",
        "    'BATCH_SIZE': 32,\n",
        "    'EVALUATION_METHODS': ['ACCURACY', 'F1_SCORE', 'PRECISION', 'RECALL', 'GMEAN'],\n",
        "}\n",
        "from types import SimpleNamespace\n",
        "cfg = SimpleNamespace(**cfg)\n",
        "dataprocessor = MNISTLoader(cfg, None)\n",
        "x_train, y_train, x_test, y_test = dataprocessor.load_dataset()\n",
        "model = LinearModelNoDropout(cfg, \"\", 28*28, dataprocessor)\n",
        "model.fit(x_train, y_train)\n",
        "evaluate(cfg, model, x_train, x_test, y_train, y_test)"
      ],
      "metadata": {
        "id": "5AdumZ8pezG3",
        "colab": {
          "base_uri": "https://localhost:8080/",
          "height": 1000,
          "referenced_widgets": [
            "be869ae000f24ee48271e13d9c6e6f13",
            "5caa67944fbd494d9d0112e11e3fd497",
            "3b550a40bfde418097a905a23b8db886",
            "b28bb1b9fcdb40a19181f74f487a62da",
            "13f2925d34cf447f8d68fc5f7e9d83db",
            "0837a78126984d2faca954f3fabf6aed",
            "f71957ffc5d24c2da2cfc2923e7d408a",
            "ce91530a6cce4c64aadcd86e2d763811",
            "4a98dfd4b35648d585461d19ccfedb5c",
            "c2ad4d9d80be4586be2bd93560c71be6",
            "914af195c72e44e0828bdbb5b66722a4",
            "d9b6cf2f91a94190809d529bd118d318",
            "0f722179cc3c442390d764102f49b08a",
            "f7171c5ee88645eb8e2e329a635ddc64",
            "2fa0b7bd621b4c8ba8b4eae00671a06f",
            "c16d9092a61545b2898abf7d74d07f27",
            "1e3abed755084f2dbab081e912dcf9ad",
            "ff1e8d2530e647e988bdec6feac579ce",
            "1d0c2a3815f142ff9f724c1913c6c1a8",
            "10e5312dd76048cea6d09355f3259418",
            "a7dceff45fd44996bdc71f608f305ef6",
            "857b35432bfb41da9599c90f53935db7",
            "9afb3090152d4fe887eae05c10b2d8ee",
            "b4075b19a3bc43a7b85ec3d7b92dae3a",
            "901267d843c6459396c3a43209afa2e9",
            "23fd7c078e334c57a5acba68f392ae3c",
            "6fd837967316423d8acde68ff3c0ef22",
            "3763f85c5fe247c89f049a04fa9a6dd4",
            "9f9d0df80aba473788682cb3bf1b8fe7",
            "6f599064d36543028a5fbc9925b576c3",
            "6513d3fac6fb4a8d8e8e499e1e54f4a3",
            "b948361b468b439b8de73862eebd9428",
            "67f9b0dc55df4a22ab47fcfb654fe9ef",
            "c4bcb54ba6eb4b1b9fb17ca90e677435",
            "ecfe4e8f397745958b264812adb2d780",
            "f137f7992d8745879ae294a02a26b859",
            "a8bd5c104f054140ab58704b311b1225",
            "90d3818849b347d78122e5d67d584d3d",
            "4683f828b41341b8b7a8560cd142efbf",
            "78e0727077094af6a82515fcb1e9c008",
            "79eaaf946c75497b918eb096f30552df",
            "860ac7346b1e4f399d9c92c7e7233ba3",
            "00a3533959ca42ff8b76966049fdaf0c",
            "30c240744d9c4fd1b6aa37e750fb4060"
          ]
        },
        "outputId": "e739c4dc-5d58-434c-d86b-35d08aed825d"
      },
      "execution_count": 9,
      "outputs": [
        {
          "output_type": "stream",
          "name": "stdout",
          "text": [
            "Downloading http://yann.lecun.com/exdb/mnist/train-images-idx3-ubyte.gz\n",
            "Downloading http://yann.lecun.com/exdb/mnist/train-images-idx3-ubyte.gz to raw_data_sets/MNIST/raw/train-images-idx3-ubyte.gz\n"
          ]
        },
        {
          "output_type": "display_data",
          "data": {
            "text/plain": [
              "  0%|          | 0/9912422 [00:00<?, ?it/s]"
            ],
            "application/vnd.jupyter.widget-view+json": {
              "version_major": 2,
              "version_minor": 0,
              "model_id": "be869ae000f24ee48271e13d9c6e6f13"
            }
          },
          "metadata": {}
        },
        {
          "output_type": "stream",
          "name": "stdout",
          "text": [
            "Extracting raw_data_sets/MNIST/raw/train-images-idx3-ubyte.gz to raw_data_sets/MNIST/raw\n",
            "\n",
            "Downloading http://yann.lecun.com/exdb/mnist/train-labels-idx1-ubyte.gz\n",
            "Downloading http://yann.lecun.com/exdb/mnist/train-labels-idx1-ubyte.gz to raw_data_sets/MNIST/raw/train-labels-idx1-ubyte.gz\n"
          ]
        },
        {
          "output_type": "display_data",
          "data": {
            "text/plain": [
              "  0%|          | 0/28881 [00:00<?, ?it/s]"
            ],
            "application/vnd.jupyter.widget-view+json": {
              "version_major": 2,
              "version_minor": 0,
              "model_id": "d9b6cf2f91a94190809d529bd118d318"
            }
          },
          "metadata": {}
        },
        {
          "output_type": "stream",
          "name": "stdout",
          "text": [
            "Extracting raw_data_sets/MNIST/raw/train-labels-idx1-ubyte.gz to raw_data_sets/MNIST/raw\n",
            "\n",
            "Downloading http://yann.lecun.com/exdb/mnist/t10k-images-idx3-ubyte.gz\n",
            "Downloading http://yann.lecun.com/exdb/mnist/t10k-images-idx3-ubyte.gz to raw_data_sets/MNIST/raw/t10k-images-idx3-ubyte.gz\n"
          ]
        },
        {
          "output_type": "display_data",
          "data": {
            "text/plain": [
              "  0%|          | 0/1648877 [00:00<?, ?it/s]"
            ],
            "application/vnd.jupyter.widget-view+json": {
              "version_major": 2,
              "version_minor": 0,
              "model_id": "9afb3090152d4fe887eae05c10b2d8ee"
            }
          },
          "metadata": {}
        },
        {
          "output_type": "stream",
          "name": "stdout",
          "text": [
            "Extracting raw_data_sets/MNIST/raw/t10k-images-idx3-ubyte.gz to raw_data_sets/MNIST/raw\n",
            "\n",
            "Downloading http://yann.lecun.com/exdb/mnist/t10k-labels-idx1-ubyte.gz\n",
            "Downloading http://yann.lecun.com/exdb/mnist/t10k-labels-idx1-ubyte.gz to raw_data_sets/MNIST/raw/t10k-labels-idx1-ubyte.gz\n"
          ]
        },
        {
          "output_type": "display_data",
          "data": {
            "text/plain": [
              "  0%|          | 0/4542 [00:00<?, ?it/s]"
            ],
            "application/vnd.jupyter.widget-view+json": {
              "version_major": 2,
              "version_minor": 0,
              "model_id": "c4bcb54ba6eb4b1b9fb17ca90e677435"
            }
          },
          "metadata": {}
        },
        {
          "output_type": "stream",
          "name": "stdout",
          "text": [
            "Extracting raw_data_sets/MNIST/raw/t10k-labels-idx1-ubyte.gz to raw_data_sets/MNIST/raw\n",
            "\n",
            "Train: 55996\n",
            "Test: 14004\n",
            "Max sample per class: 7877\n",
            "epoch: 1 step: 1000/1750 loss: 0.21377596259117126\n",
            "epoch: 1 loss: 1.0409356705309485\n",
            "epoch: 2 step: 1000/1750 loss: 0.04026510566473007\n",
            "epoch: 2 loss: 0.07816559606786125\n",
            "epoch: 3 step: 1000/1750 loss: 0.024359095841646194\n",
            "epoch: 3 loss: 0.020853066894750166\n",
            "epoch: 4 step: 1000/1750 loss: 0.005158317741006613\n",
            "epoch: 4 loss: 0.006633819548754478\n",
            "epoch: 5 step: 1000/1750 loss: 0.002913146745413542\n",
            "epoch: 5 loss: 0.0023396239768959017\n",
            "epoch: 6 step: 1000/1750 loss: 0.0016682872083038092\n",
            "epoch: 6 loss: 0.0012439973281074604\n",
            "epoch: 7 step: 1000/1750 loss: 0.0012412462383508682\n",
            "epoch: 7 loss: 0.0009076651710794132\n",
            "epoch: 8 step: 1000/1750 loss: 0.0009792238706722856\n",
            "epoch: 8 loss: 0.0007428881849855316\n",
            "epoch: 9 step: 1000/1750 loss: 0.0008359475759789348\n",
            "epoch: 9 loss: 0.000638785821990317\n",
            "epoch: 10 step: 1000/1750 loss: 0.0007269852794706821\n",
            "epoch: 10 loss: 0.0005621783772863377\n",
            "Train\n",
            "Accuracy = 1.0\n",
            "F1 Score = 1.0\n",
            "Precision = 1.0\n",
            "Recall = 1.0\n",
            "Geometric Mean = 1.0\n",
            "\n",
            "\n",
            "Test\n",
            "Accuracy = 0.9738646101113967\n",
            "F1 Score = 0.9737010545887135\n",
            "Precision = 0.9737105845210513\n",
            "Recall = 0.9737084539160191\n",
            "Geometric Mean = 0.9736761250259375\n",
            "\n"
          ]
        },
        {
          "output_type": "display_data",
          "data": {
            "text/plain": [
              "<Figure size 432x288 with 1 Axes>"
            ],
            "image/png": "[encoded data removed]"
          },
          "metadata": {
            "needs_background": "light"
          }
        },
        {
          "output_type": "display_data",
          "data": {
            "text/plain": [
              "<Figure size 432x288 with 1 Axes>"
            ],
            "image/png": "[encoded data removed]"
          },
          "metadata": {
            "needs_background": "light"
          }
        }
      ]
    },
    {
      "cell_type": "code",
      "source": [
        "s = torch.tensor([-1,3,4,5])\n",
        "g = torch.tensor([-3,0,2,-10])\n",
        "m = torch.max(torch.abs(s), torch.abs(g))\n",
        "print(m)\n",
        "print(torch.sign(s))\n",
        "print(m == torch.abs(s))\n",
        "print( ((m == torch.abs(s)) * torch.sign(s)).int())\n",
        "m = m * (((m == torch.abs(s)) * torch.sign(s)) |  ((m == torch.abs(g)) * torch.sign(g)))\n",
        "print(m)"
      ],
      "metadata": {
        "colab": {
          "base_uri": "https://localhost:8080/",
          "height": 0
        },
        "id": "QCgtW2xdBOmJ",
        "outputId": "c9091cfd-639c-415f-85fe-b47959ac993a"
      },
      "execution_count": 38,
      "outputs": [
        {
          "output_type": "stream",
          "name": "stdout",
          "text": [
            "tensor([ 3,  3,  4, 10])\n",
            "tensor([-1,  1,  1,  1])\n",
            "tensor([False,  True,  True, False])\n",
            "tensor([0, 1, 1, 0], dtype=torch.int32)\n",
            "tensor([ -3,   3,   4, -10])\n"
          ]
        }
      ]
    },
    {
      "cell_type": "code",
      "source": [
        "class LinearModelGradBasedDrop(LinearModelNoDropout):\n",
        "    \n",
        "    def __init__(self, cfg, train_path, input_dim, dataprocessor, **kwargs):\n",
        "        super(LinearModelGradBasedDrop, self).__init__(cfg, train_path, input_dim, dataprocessor, **kwargs)\n",
        "        self.prob_method = cfg.PROB_METHOD\n",
        "    \n",
        "    def set_model(self, input_dim, hidden_dim, target_size):\n",
        "        layer = LinearWithGradBasedDropout(input_dim, hidden_dim, self.drop_prob)\n",
        "        self.model = LinearModel(layer, hidden_dim, target_size).to(self.device)\n",
        "\n",
        "    def update_per_iter(self):\n",
        "        self.model.linear_layer.drop.update_keep_prob(self.model.linear_layer.fc.weight.grad.detach(), self.prob_method)\n",
        "\n",
        "class LinearModelGradBasedDropV2(LinearModelNoDropout):\n",
        "    \n",
        "    def __init__(self, cfg, train_path, input_dim, dataprocessor, **kwargs):\n",
        "        super(LinearModelGradBasedDropV2, self).__init__(cfg, train_path, input_dim, dataprocessor, **kwargs)\n",
        "        self.prob_method = cfg.PROB_METHOD\n",
        "\n",
        "        self.input_dim = input_dim\n",
        "        self.grads = torch.zeros(2048, input_dim).to(device)\n",
        "    \n",
        "    def set_model(self, input_dim, hidden_dim, target_size):\n",
        "        layer = LinearWithGradBasedDropout(input_dim, hidden_dim, self.drop_prob)\n",
        "        self.model = LinearModel(layer, hidden_dim, target_size).to(self.device)\n",
        "\n",
        "    def update_per_iter(self):\n",
        "        self.grads += self.model.linear_layer.fc.weight.grad.detach()\n",
        "\n",
        "    def update_per_epoch(self):\n",
        "        self.model.linear_layer.drop.update_keep_prob(self.grads, self.prob_method)\n",
        "        self.grads = torch.zeros(2048, self.input_dim).to(device)\n",
        "\n",
        "class LinearModelGradBasedDropV3(LinearModelNoDropout):\n",
        "    \n",
        "    def __init__(self, cfg, train_path, input_dim, dataprocessor, **kwargs):\n",
        "        super(LinearModelGradBasedDropV3, self).__init__(cfg, train_path, input_dim, dataprocessor, **kwargs)\n",
        "        self.prob_method = cfg.PROB_METHOD\n",
        "        self.grads = None\n",
        "    \n",
        "    def set_model(self, input_dim, hidden_dim, target_size):\n",
        "        layer = LinearWithGradBasedDropout(input_dim, hidden_dim, self.drop_prob)\n",
        "        self.model = LinearModel(layer, hidden_dim, target_size).to(self.device)\n",
        "\n",
        "    def update_per_iter(self):\n",
        "        if self.grads is None:\n",
        "            self.grads = self.model.linear_layer.fc.weight.grad.detach()\n",
        "        else:\n",
        "            cur_grads = self.model.linear_layer.fc.weight.grad.detach()\n",
        "            new_grads = torch.max(torch.abs(self.grads), torch.abs(cur_grads))\n",
        "            new_grads = new_grads * (((new_grads == torch.abs(self.grads)) * torch.sign(self.grads)).int() | ((new_grads == torch.abs(cur_grads)) * torch.sign(cur_grads)).int())\n",
        "            \n",
        "            self.grads = new_grads\n",
        "\n",
        "\n",
        "    def update_per_epoch(self):\n",
        "        self.model.linear_layer.drop.update_keep_prob(self.grads, self.prob_method)\n",
        "        self.grards = None\n",
        "        "
      ],
      "metadata": {
        "id": "GuhBX2a6bM5T"
      },
      "execution_count": 42,
      "outputs": []
    },
    {
      "cell_type": "markdown",
      "source": [
        "## V1"
      ],
      "metadata": {
        "id": "q4F6zfFNqAZ2"
      }
    },
    {
      "cell_type": "code",
      "source": [
        "cfg = {\n",
        "    'OUTPUT_TYPE': 'NUMBERS', \n",
        "    'PROB_METHOD': 'NORM',\n",
        "    'DROP_PROB': 0.2,\n",
        "    'LOSS': 'NLLLoss',\n",
        "    'OPTIMIZER': 'SGD',\n",
        "    'PRINT_EVERY': 1000,\n",
        "    'LR': 0.001,\n",
        "    'EPOCH': 10,\n",
        "    'LOAD_METHOD': 'ORIGINAL',\n",
        "    'BATCH_SIZE': 32,\n",
        "    'EVALUATION_METHODS': ['ACCURACY', 'F1_SCORE', 'PRECISION', 'RECALL', 'GMEAN'],\n",
        "}\n",
        "from types import SimpleNamespace\n",
        "cfg = SimpleNamespace(**cfg)\n",
        "dataprocessor = MNISTLoader(cfg, None)\n",
        "x_train, y_train, x_test, y_test = dataprocessor.load_dataset()\n",
        "model = LinearModelGradBasedDrop(cfg, \"\", 28*28, dataprocessor)\n",
        "model.fit(x_train, y_train)\n",
        "evaluate(cfg, model, x_train, x_test, y_train, y_test)"
      ],
      "metadata": {
        "id": "M25MnifXnq0i",
        "colab": {
          "base_uri": "https://localhost:8080/",
          "height": 1228
        },
        "outputId": "f660b376-8308-419d-f273-73a374212432"
      },
      "execution_count": 11,
      "outputs": [
        {
          "output_type": "stream",
          "name": "stdout",
          "text": [
            "Train: 55996\n",
            "Test: 14004\n",
            "Max sample per class: 7877\n",
            "epoch: 1 step: 1000/1750 loss: 0.029033316299319267\n",
            "epoch: 1 loss: 1.0855013719147704\n",
            "epoch: 2 step: 1000/1750 loss: 0.08953585475683212\n",
            "epoch: 2 loss: 0.1020672316788966\n",
            "epoch: 3 step: 1000/1750 loss: 0.005456344690173864\n",
            "epoch: 3 loss: 0.04474946562800584\n",
            "epoch: 4 step: 1000/1750 loss: 0.005136524792760611\n",
            "epoch: 4 loss: 0.023569930555622703\n",
            "epoch: 5 step: 1000/1750 loss: 0.0009279388468712568\n",
            "epoch: 5 loss: 0.0154925262085548\n",
            "epoch: 6 step: 1000/1750 loss: 0.004184164106845856\n",
            "epoch: 6 loss: 0.012061298541870038\n",
            "epoch: 7 step: 1000/1750 loss: 0.0023110846523195505\n",
            "epoch: 7 loss: 0.008500669893756627\n",
            "epoch: 8 step: 1000/1750 loss: 0.08144950866699219\n",
            "epoch: 8 loss: 0.005838018651087883\n",
            "epoch: 9 step: 1000/1750 loss: 0.0007616200018674135\n",
            "epoch: 9 loss: 0.005071560133615744\n",
            "epoch: 10 step: 1000/1750 loss: 0.005858011543750763\n",
            "epoch: 10 loss: 0.004006456820527595\n",
            "Train\n",
            "Accuracy = 0.9991785127509107\n",
            "F1 Score = 0.9991516464064327\n",
            "Precision = 0.9991736042256398\n",
            "Recall = 0.99921474524641\n",
            "Geometric Mean = 0.9991975554093049\n",
            "\n",
            "\n",
            "Test\n",
            "Accuracy = 0.973507569265924\n",
            "F1 Score = 0.9748936650391207\n",
            "Precision = 0.9731078536178261\n",
            "Recall = 0.9748971057034987\n",
            "Geometric Mean = 0.9737377954745442\n",
            "\n"
          ]
        },
        {
          "output_type": "display_data",
          "data": {
            "text/plain": [
              "<Figure size 432x288 with 1 Axes>"
            ],
            "image/png": "[encoded data removed]"
          },
          "metadata": {
            "needs_background": "light"
          }
        },
        {
          "output_type": "display_data",
          "data": {
            "text/plain": [
              "<Figure size 432x288 with 1 Axes>"
            ],
            "image/png": "[encoded data removed]"
          },
          "metadata": {
            "needs_background": "light"
          }
        }
      ]
    },
    {
      "cell_type": "code",
      "source": [
        "cfg = {\n",
        "    'OUTPUT_TYPE': 'NUMBERS', \n",
        "    'PROB_METHOD': 'NORM',\n",
        "    'LOSS': 'NLLLoss',\n",
        "    'OPTIMIZER': 'SGD',\n",
        "    'PRINT_EVERY': 1000,\n",
        "    'LR': 0.001,\n",
        "    'EPOCH': 10,\n",
        "    'LOAD_METHOD': 'ORIGINAL',\n",
        "    'BATCH_SIZE': 32,\n",
        "    'EVALUATION_METHODS': ['ACCURACY', 'F1_SCORE', 'PRECISION', 'RECALL', 'GMEAN'],\n",
        "}\n",
        "from types import SimpleNamespace\n",
        "cfg = SimpleNamespace(**cfg)\n",
        "dataprocessor = MNISTLoader(cfg, None)\n",
        "x_train, y_train, x_test, y_test = dataprocessor.load_dataset()\n",
        "model = LinearModelGradBasedDrop(cfg, \"\", 28*28, dataprocessor)\n",
        "model.fit(x_train, y_train)\n",
        "evaluate(cfg, model, x_train, x_test, y_train, y_test)"
      ],
      "metadata": {
        "id": "JxqhScfJoNhn",
        "colab": {
          "base_uri": "https://localhost:8080/",
          "height": 1228
        },
        "outputId": "4cc9efb2-52bb-42c1-c845-033e5f5dd64c"
      },
      "execution_count": 12,
      "outputs": [
        {
          "output_type": "stream",
          "name": "stdout",
          "text": [
            "Train: 55996\n",
            "Test: 14004\n",
            "Max sample per class: 7877\n",
            "epoch: 1 step: 1000/1750 loss: 0.41027235984802246\n",
            "epoch: 1 loss: 3.065504175732777\n",
            "epoch: 2 step: 1000/1750 loss: 0.4441238343715668\n",
            "epoch: 2 loss: 0.4159587083489501\n",
            "epoch: 3 step: 1000/1750 loss: 0.07013493776321411\n",
            "epoch: 3 loss: 0.34073345561754625\n",
            "epoch: 4 step: 1000/1750 loss: 0.19535110890865326\n",
            "epoch: 4 loss: 0.2581309843178481\n",
            "epoch: 5 step: 1000/1750 loss: 0.10210801661014557\n",
            "epoch: 5 loss: 0.27109156486880964\n",
            "epoch: 6 step: 1000/1750 loss: 2.3027191162109375\n",
            "epoch: 6 loss: 9.486998376033386\n",
            "epoch: 7 step: 1000/1750 loss: 2.3024210929870605\n",
            "epoch: 7 loss: 14.761707360812595\n",
            "epoch: 8 step: 1000/1750 loss: 2.3022642135620117\n",
            "epoch: 8 loss: 9.597864674976893\n",
            "epoch: 9 step: 1000/1750 loss: 2.3021788597106934\n",
            "epoch: 9 loss: 11.995353436435806\n",
            "epoch: 10 step: 1000/1750 loss: 0.11233313381671906\n",
            "epoch: 10 loss: 0.20174202854101272\n",
            "Train\n",
            "Accuracy = 0.9602650189299236\n",
            "F1 Score = 0.9607234495971826\n",
            "Precision = 0.9598865179885282\n",
            "Recall = 0.9596252395314231\n",
            "Geometric Mean = 0.9596617413078197\n",
            "\n",
            "\n",
            "Test\n",
            "Accuracy = 0.9432305055698372\n",
            "F1 Score = 0.9476210838650074\n",
            "Precision = 0.9424280998410766\n",
            "Recall = 0.9460582426332753\n",
            "Geometric Mean = 0.9440258052077188\n",
            "\n"
          ]
        },
        {
          "output_type": "display_data",
          "data": {
            "text/plain": [
              "<Figure size 432x288 with 1 Axes>"
            ],
            "image/png": "[encoded data removed]"
          },
          "metadata": {
            "needs_background": "light"
          }
        },
        {
          "output_type": "display_data",
          "data": {
            "text/plain": [
              "<Figure size 432x288 with 1 Axes>"
            ],
            "image/png": "[encoded data removed]"
          },
          "metadata": {
            "needs_background": "light"
          }
        }
      ]
    },
    {
      "cell_type": "code",
      "source": [
        "cfg = {\n",
        "    'OUTPUT_TYPE': 'NUMBERS', \n",
        "    'PROB_METHOD': 'ABS_NORM',\n",
        "    'DROP_PROB': 0.2,\n",
        "    'LOSS': 'NLLLoss',\n",
        "    'OPTIMIZER': 'SGD',\n",
        "    'PRINT_EVERY': 1000,\n",
        "    'LR': 0.001,\n",
        "    'EPOCH': 10,\n",
        "    'LOAD_METHOD': 'ORIGINAL',\n",
        "    'BATCH_SIZE': 32,\n",
        "    'EVALUATION_METHODS': ['ACCURACY', 'F1_SCORE', 'PRECISION', 'RECALL', 'GMEAN'],\n",
        "}\n",
        "from types import SimpleNamespace\n",
        "cfg = SimpleNamespace(**cfg)\n",
        "dataprocessor = MNISTLoader(cfg, None)\n",
        "x_train, y_train, x_test, y_test = dataprocessor.load_dataset()\n",
        "model = LinearModelGradBasedDrop(cfg, \"\", 28*28, dataprocessor)\n",
        "model.fit(x_train, y_train)\n",
        "evaluate(cfg, model, x_train, x_test, y_train, y_test)"
      ],
      "metadata": {
        "id": "tzPia9HJuOqE",
        "colab": {
          "base_uri": "https://localhost:8080/",
          "height": 1231
        },
        "outputId": "6b1a8ad6-a639-4101-a3ac-d776160ddf58"
      },
      "execution_count": 13,
      "outputs": [
        {
          "output_type": "stream",
          "name": "stdout",
          "text": [
            "Train: 55996\n",
            "Test: 14004\n",
            "Max sample per class: 7877\n",
            "epoch: 1 step: 1000/1750 loss: 0.1008516475558281\n",
            "epoch: 1 loss: 1.1585729277069914\n",
            "epoch: 2 step: 1000/1750 loss: 0.045484963804483414\n",
            "epoch: 2 loss: 0.12633628313102652\n",
            "epoch: 3 step: 1000/1750 loss: 0.02784821391105652\n",
            "epoch: 3 loss: 0.06924497038228453\n",
            "epoch: 4 step: 1000/1750 loss: 0.05908462777733803\n",
            "epoch: 4 loss: 0.04680376447651153\n",
            "epoch: 5 step: 1000/1750 loss: 0.050923850387334824\n",
            "epoch: 5 loss: 0.03245354009355443\n",
            "epoch: 6 step: 1000/1750 loss: 0.2704203724861145\n",
            "epoch: 6 loss: 0.026180027517610532\n",
            "epoch: 7 step: 1000/1750 loss: 0.004689046647399664\n",
            "epoch: 7 loss: 0.019621385391713504\n",
            "epoch: 8 step: 1000/1750 loss: 0.02805110439658165\n",
            "epoch: 8 loss: 0.014442923658572129\n",
            "epoch: 9 step: 1000/1750 loss: 0.05566292628645897\n",
            "epoch: 9 loss: 0.014364261603992937\n",
            "epoch: 10 step: 1000/1750 loss: 0.15213705599308014\n",
            "epoch: 10 loss: 0.012923492042477652\n",
            "Train\n",
            "Accuracy = 0.9962140152868062\n",
            "F1 Score = 0.9963238887137977\n",
            "Precision = 0.9960807776502453\n",
            "Recall = 0.9965544146030509\n",
            "Geometric Mean = 0.9967434644970323\n",
            "\n",
            "\n",
            "Test\n",
            "Accuracy = 0.9724364467295059\n",
            "F1 Score = 0.9706093876915254\n",
            "Precision = 0.9696081578870762\n",
            "Recall = 0.9708342695333627\n",
            "Geometric Mean = 0.9721862429867849\n",
            "\n"
          ]
        },
        {
          "output_type": "display_data",
          "data": {
            "text/plain": [
              "<Figure size 432x288 with 1 Axes>"
            ],
            "image/png": "[encoded data removed]"
          },
          "metadata": {
            "needs_background": "light"
          }
        },
        {
          "output_type": "display_data",
          "data": {
            "text/plain": [
              "<Figure size 432x288 with 1 Axes>"
            ],
            "image/png": "[encoded data removed]"
          },
          "metadata": {
            "needs_background": "light"
          }
        }
      ]
    },
    {
      "cell_type": "code",
      "source": [
        "cfg = {\n",
        "    'OUTPUT_TYPE': 'NUMBERS', \n",
        "    'PROB_METHOD': 'ABS_NORM',\n",
        "    'LOSS': 'NLLLoss',\n",
        "    'OPTIMIZER': 'SGD',\n",
        "    'PRINT_EVERY': 1000,\n",
        "    'LR': 0.001,\n",
        "    'EPOCH': 10,\n",
        "    'LOAD_METHOD': 'ORIGINAL',\n",
        "    'BATCH_SIZE': 32,\n",
        "    'EVALUATION_METHODS': ['ACCURACY', 'F1_SCORE', 'PRECISION', 'RECALL', 'GMEAN'],\n",
        "}\n",
        "from types import SimpleNamespace\n",
        "cfg = SimpleNamespace(**cfg)\n",
        "dataprocessor = MNISTLoader(cfg, None)\n",
        "x_train, y_train, x_test, y_test = dataprocessor.load_dataset()\n",
        "model = LinearModelGradBasedDrop(cfg, \"\", 28*28, dataprocessor)\n",
        "model.fit(x_train, y_train)\n",
        "evaluate(cfg, model, x_train, x_test, y_train, y_test)"
      ],
      "metadata": {
        "id": "J3jPqjkTbykv",
        "colab": {
          "base_uri": "https://localhost:8080/",
          "height": 1278
        },
        "outputId": "daf53cee-4cdd-4323-e1e8-5b1c76b8980f"
      },
      "execution_count": 14,
      "outputs": [
        {
          "output_type": "stream",
          "name": "stdout",
          "text": [
            "Train: 55996\n",
            "Test: 14004\n",
            "Max sample per class: 7877\n",
            "epoch: 1 step: 1000/1750 loss: 2.3041646480560303\n",
            "epoch: 1 loss: 782.3639841158731\n",
            "epoch: 2 step: 1000/1750 loss: 2056.769287109375\n",
            "epoch: 2 loss: 420.672047306742\n",
            "epoch: 3 step: 1000/1750 loss: 2.303265333175659\n",
            "epoch: 3 loss: 1104.3978104318892\n",
            "epoch: 4 step: 1000/1750 loss: 2.30303955078125\n",
            "epoch: 4 loss: 617.5113979475839\n",
            "epoch: 5 step: 1000/1750 loss: 2.3028564453125\n",
            "epoch: 5 loss: 236.193984920093\n",
            "epoch: 6 step: 1000/1750 loss: 2080.592041015625\n",
            "epoch: 6 loss: 148.89333449568068\n",
            "epoch: 7 step: 1000/1750 loss: 2.3026669025421143\n",
            "epoch: 7 loss: 119.25075001307896\n",
            "epoch: 8 step: 1000/1750 loss: 2.3026046752929688\n",
            "epoch: 8 loss: 76.48359180777413\n",
            "epoch: 9 step: 1000/1750 loss: 2.302565097808838\n",
            "epoch: 9 loss: 126.3397740688324\n",
            "epoch: 10 step: 1000/1750 loss: 2.3025636672973633\n",
            "epoch: 10 loss: 91.11334977299826\n"
          ]
        },
        {
          "output_type": "stream",
          "name": "stderr",
          "text": [
            "/usr/local/lib/python3.7/dist-packages/sklearn/metrics/_classification.py:1318: UndefinedMetricWarning: Precision is ill-defined and being set to 0.0 in labels with no predicted samples. Use `zero_division` parameter to control this behavior.\n",
            "  _warn_prf(average, modifier, msg_start, len(result))\n"
          ]
        },
        {
          "output_type": "stream",
          "name": "stdout",
          "text": [
            "Train\n",
            "Accuracy = 0.11249017786984784\n",
            "F1 Score = 0.020426683861199085\n",
            "Precision = 0.023754691689008043\n",
            "Recall = 0.09990722154108919\n",
            "Geometric Mean = 0.0\n",
            "\n",
            "\n",
            "Test\n",
            "Accuracy = 0.112539274493002\n",
            "F1 Score = 0.0203611238325501\n",
            "Precision = 0.04458815682911724\n",
            "Recall = 0.09995616481657091\n",
            "Geometric Mean = 0.0\n",
            "\n"
          ]
        },
        {
          "output_type": "display_data",
          "data": {
            "text/plain": [
              "<Figure size 432x288 with 1 Axes>"
            ],
            "image/png": "[encoded data removed]"
          },
          "metadata": {
            "needs_background": "light"
          }
        },
        {
          "output_type": "display_data",
          "data": {
            "text/plain": [
              "<Figure size 432x288 with 1 Axes>"
            ],
            "image/png": "[encoded data removed]"
          },
          "metadata": {
            "needs_background": "light"
          }
        }
      ]
    },
    {
      "cell_type": "code",
      "source": [
        "cfg = {\n",
        "    'OUTPUT_TYPE': 'NUMBERS', \n",
        "    'PROB_METHOD': 'TANH',\n",
        "    'LOSS': 'NLLLoss',\n",
        "    'OPTIMIZER': 'SGD',\n",
        "    'PRINT_EVERY': 1000,\n",
        "    'LR': 0.001,\n",
        "    'EPOCH': 10,\n",
        "    'LOAD_METHOD': 'ORIGINAL',\n",
        "    'BATCH_SIZE': 32,\n",
        "    'EVALUATION_METHODS': ['ACCURACY', 'F1_SCORE', 'PRECISION', 'RECALL', 'GMEAN'],\n",
        "}\n",
        "from types import SimpleNamespace\n",
        "cfg = SimpleNamespace(**cfg)\n",
        "dataprocessor = MNISTLoader(cfg, None)\n",
        "x_train, y_train, x_test, y_test = dataprocessor.load_dataset()\n",
        "model = LinearModelGradBasedDrop(cfg, \"\", 28*28, dataprocessor)\n",
        "model.fit(x_train, y_train)\n",
        "evaluate(cfg, model, x_train, x_test, y_train, y_test)"
      ],
      "metadata": {
        "id": "nDe3WrQZn5Pe",
        "colab": {
          "base_uri": "https://localhost:8080/",
          "height": 1228
        },
        "outputId": "a52a3b79-6c6e-4d75-e4e4-c1a6d00d3481"
      },
      "execution_count": 15,
      "outputs": [
        {
          "output_type": "stream",
          "name": "stdout",
          "text": [
            "Train: 55996\n",
            "Test: 14004\n",
            "Max sample per class: 7877\n",
            "epoch: 1 step: 1000/1750 loss: 0.3505474030971527\n",
            "epoch: 1 loss: 141.55818234181405\n",
            "epoch: 2 step: 1000/1750 loss: 0.1204739362001419\n",
            "epoch: 2 loss: 112.8306308616634\n",
            "epoch: 3 step: 1000/1750 loss: 0.40019017457962036\n",
            "epoch: 3 loss: 72.52798726591254\n",
            "epoch: 4 step: 1000/1750 loss: 0.20995809137821198\n",
            "epoch: 4 loss: 73.5212428313185\n",
            "epoch: 5 step: 1000/1750 loss: 0.2661950886249542\n",
            "epoch: 5 loss: 84.43492656440287\n",
            "epoch: 6 step: 1000/1750 loss: 0.2358325719833374\n",
            "epoch: 6 loss: 91.00968577166967\n",
            "epoch: 7 step: 1000/1750 loss: 633.4234008789062\n",
            "epoch: 7 loss: 82.54362252505763\n",
            "epoch: 8 step: 1000/1750 loss: 0.3640236258506775\n",
            "epoch: 8 loss: 57.43438885491022\n",
            "epoch: 9 step: 1000/1750 loss: 0.34971553087234497\n",
            "epoch: 9 loss: 43.85544775757406\n",
            "epoch: 10 step: 1000/1750 loss: 0.33064040541648865\n",
            "epoch: 10 loss: 50.6645359177781\n",
            "Train\n",
            "Accuracy = 0.8895635402528752\n",
            "F1 Score = 0.8871236596432072\n",
            "Precision = 0.8907584104567915\n",
            "Recall = 0.886850708984355\n",
            "Geometric Mean = 0.8839757169747671\n",
            "\n",
            "\n",
            "Test\n",
            "Accuracy = 0.884318766066838\n",
            "F1 Score = 0.882198304115836\n",
            "Precision = 0.8860441370255131\n",
            "Recall = 0.8820070066585561\n",
            "Geometric Mean = 0.8789885694555727\n",
            "\n"
          ]
        },
        {
          "output_type": "display_data",
          "data": {
            "text/plain": [
              "<Figure size 432x288 with 1 Axes>"
            ],
            "image/png": "[encoded data removed]"
          },
          "metadata": {
            "needs_background": "light"
          }
        },
        {
          "output_type": "display_data",
          "data": {
            "text/plain": [
              "<Figure size 432x288 with 1 Axes>"
            ],
            "image/png": "[encoded data removed]"
          },
          "metadata": {
            "needs_background": "light"
          }
        }
      ]
    },
    {
      "cell_type": "code",
      "source": [
        "cfg = {\n",
        "    'OUTPUT_TYPE': 'NUMBERS', \n",
        "    'PROB_METHOD': 'TANH',\n",
        "    'DROP_PROB': 0.2,\n",
        "    'LOSS': 'NLLLoss',\n",
        "    'OPTIMIZER': 'SGD',\n",
        "    'PRINT_EVERY': 1000,\n",
        "    'LR': 0.001,\n",
        "    'EPOCH': 10,\n",
        "    'LOAD_METHOD': 'ORIGINAL',\n",
        "    'BATCH_SIZE': 32,\n",
        "    'EVALUATION_METHODS': ['ACCURACY', 'F1_SCORE', 'PRECISION', 'RECALL', 'GMEAN'],\n",
        "}\n",
        "from types import SimpleNamespace\n",
        "cfg = SimpleNamespace(**cfg)\n",
        "dataprocessor = MNISTLoader(cfg, None)\n",
        "x_train, y_train, x_test, y_test = dataprocessor.load_dataset()\n",
        "model = LinearModelGradBasedDrop(cfg, \"\", 28*28, dataprocessor)\n",
        "model.fit(x_train, y_train)\n",
        "evaluate(cfg, model, x_train, x_test, y_train, y_test)"
      ],
      "metadata": {
        "id": "MQAzAG5nuIYV",
        "colab": {
          "base_uri": "https://localhost:8080/",
          "height": 1228
        },
        "outputId": "c80e1bbd-a57c-4c40-e8ac-50217f1b5ad5"
      },
      "execution_count": 16,
      "outputs": [
        {
          "output_type": "stream",
          "name": "stdout",
          "text": [
            "Train: 55996\n",
            "Test: 14004\n",
            "Max sample per class: 7877\n",
            "epoch: 1 step: 1000/1750 loss: 0.25163787603378296\n",
            "epoch: 1 loss: 1.2011081443996852\n",
            "epoch: 2 step: 1000/1750 loss: 0.05300094559788704\n",
            "epoch: 2 loss: 0.11973173815590729\n",
            "epoch: 3 step: 1000/1750 loss: 0.05175848305225372\n",
            "epoch: 3 loss: 0.06897988861735628\n",
            "epoch: 4 step: 1000/1750 loss: 0.011781205423176289\n",
            "epoch: 4 loss: 0.04143958110635244\n",
            "epoch: 5 step: 1000/1750 loss: 0.03266526758670807\n",
            "epoch: 5 loss: 0.03133433565381451\n",
            "epoch: 6 step: 1000/1750 loss: 0.01818706840276718\n",
            "epoch: 6 loss: 0.023884425484644974\n",
            "epoch: 7 step: 1000/1750 loss: 0.012548310682177544\n",
            "epoch: 7 loss: 0.020554669024048896\n",
            "epoch: 8 step: 1000/1750 loss: 0.09104917198419571\n",
            "epoch: 8 loss: 0.017317577424335987\n",
            "epoch: 9 step: 1000/1750 loss: 0.007153002079576254\n",
            "epoch: 9 loss: 0.015003300008305034\n",
            "epoch: 10 step: 1000/1750 loss: 0.00949674379080534\n",
            "epoch: 10 loss: 0.01273168586152542\n",
            "Train\n",
            "Accuracy = 0.9969640688620616\n",
            "F1 Score = 0.9968177202673161\n",
            "Precision = 0.9971440156540023\n",
            "Recall = 0.9973676890534631\n",
            "Geometric Mean = 0.9975542512271146\n",
            "\n",
            "\n",
            "Test\n",
            "Accuracy = 0.9716509568694659\n",
            "F1 Score = 0.9716547654772489\n",
            "Precision = 0.9705008753670976\n",
            "Recall = 0.9705585569178169\n",
            "Geometric Mean = 0.9696741533660069\n",
            "\n"
          ]
        },
        {
          "output_type": "display_data",
          "data": {
            "text/plain": [
              "<Figure size 432x288 with 1 Axes>"
            ],
            "image/png": "[encoded data removed]"
          },
          "metadata": {
            "needs_background": "light"
          }
        },
        {
          "output_type": "display_data",
          "data": {
            "text/plain": [
              "<Figure size 432x288 with 1 Axes>"
            ],
            "image/png": "[encoded data removed]"
          },
          "metadata": {
            "needs_background": "light"
          }
        }
      ]
    },
    {
      "cell_type": "markdown",
      "source": [
        "## V2"
      ],
      "metadata": {
        "id": "hj1zIWcQiWCP"
      }
    },
    {
      "cell_type": "code",
      "source": [
        "cfg = {\n",
        "    'OUTPUT_TYPE': 'NUMBERS', \n",
        "    'PROB_METHOD': 'NORM',\n",
        "    'DROP_PROB': 0.2,\n",
        "    'LOSS': 'NLLLoss',\n",
        "    'OPTIMIZER': 'SGD',\n",
        "    'PRINT_EVERY': 1000,\n",
        "    'LR': 0.001,\n",
        "    'EPOCH': 10,\n",
        "    'LOAD_METHOD': 'ORIGINAL',\n",
        "    'BATCH_SIZE': 32,\n",
        "    'EVALUATION_METHODS': ['ACCURACY', 'F1_SCORE', 'PRECISION', 'RECALL', 'GMEAN'],\n",
        "}\n",
        "from types import SimpleNamespace\n",
        "cfg = SimpleNamespace(**cfg)\n",
        "dataprocessor = MNISTLoader(cfg, None)\n",
        "x_train, y_train, x_test, y_test = dataprocessor.load_dataset()\n",
        "model = LinearModelGradBasedDropV2(cfg, \"\", 28*28, dataprocessor)\n",
        "model.fit(x_train, y_train)\n",
        "evaluate(cfg, model, x_train, x_test, y_train, y_test)"
      ],
      "metadata": {
        "id": "gIGPAr97iVWn",
        "colab": {
          "base_uri": "https://localhost:8080/",
          "height": 1228
        },
        "outputId": "843719e0-bcff-4712-f83e-6b0c35d8ed93"
      },
      "execution_count": 17,
      "outputs": [
        {
          "output_type": "stream",
          "name": "stdout",
          "text": [
            "Train: 55996\n",
            "Test: 14004\n",
            "Max sample per class: 7877\n",
            "epoch: 1 step: 1000/1750 loss: 0.5440689325332642\n",
            "epoch: 1 loss: 1.0080662886390037\n",
            "epoch: 2 step: 1000/1750 loss: 0.052991751581430435\n",
            "epoch: 2 loss: 0.11297115542321262\n",
            "epoch: 3 step: 1000/1750 loss: 0.019251063466072083\n",
            "epoch: 3 loss: 0.05105151807855353\n",
            "epoch: 4 step: 1000/1750 loss: 0.005391187034547329\n",
            "epoch: 4 loss: 0.026035468838601188\n",
            "epoch: 5 step: 1000/1750 loss: 0.05600795894861221\n",
            "epoch: 5 loss: 0.01862215878006048\n",
            "epoch: 6 step: 1000/1750 loss: 0.008630427531898022\n",
            "epoch: 6 loss: 0.013355604248898414\n",
            "epoch: 7 step: 1000/1750 loss: 0.009108386002480984\n",
            "epoch: 7 loss: 0.009061531950936374\n",
            "epoch: 8 step: 1000/1750 loss: 0.00132947217207402\n",
            "epoch: 8 loss: 0.0067093904888887845\n",
            "epoch: 9 step: 1000/1750 loss: 0.0035808756947517395\n",
            "epoch: 9 loss: 0.006553847246513214\n",
            "epoch: 10 step: 1000/1750 loss: 0.001279422314837575\n",
            "epoch: 10 loss: 0.005022120391238417\n",
            "Train\n",
            "Accuracy = 0.9983570255018216\n",
            "F1 Score = 0.9985584028428637\n",
            "Precision = 0.9984967498682009\n",
            "Recall = 0.9986352135945463\n",
            "Geometric Mean = 0.9986152454091851\n",
            "\n",
            "\n",
            "Test\n",
            "Accuracy = 0.9720794058840332\n",
            "F1 Score = 0.9714773389976579\n",
            "Precision = 0.9729445778440319\n",
            "Recall = 0.971651537679915\n",
            "Geometric Mean = 0.972788161747973\n",
            "\n"
          ]
        },
        {
          "output_type": "display_data",
          "data": {
            "text/plain": [
              "<Figure size 432x288 with 1 Axes>"
            ],
            "image/png": "[encoded data removed]"
          },
          "metadata": {
            "needs_background": "light"
          }
        },
        {
          "output_type": "display_data",
          "data": {
            "text/plain": [
              "<Figure size 432x288 with 1 Axes>"
            ],
            "image/png": "[encoded data removed]"
          },
          "metadata": {
            "needs_background": "light"
          }
        }
      ]
    },
    {
      "cell_type": "code",
      "source": [
        "cfg = {\n",
        "    'OUTPUT_TYPE': 'NUMBERS', \n",
        "    'PROB_METHOD': 'NORM',\n",
        "    'LOSS': 'NLLLoss',\n",
        "    'OPTIMIZER': 'SGD',\n",
        "    'PRINT_EVERY': 1000,\n",
        "    'LR': 0.001,\n",
        "    'EPOCH': 10,\n",
        "    'LOAD_METHOD': 'ORIGINAL',\n",
        "    'BATCH_SIZE': 32,\n",
        "    'EVALUATION_METHODS': ['ACCURACY', 'F1_SCORE', 'PRECISION', 'RECALL', 'GMEAN'],\n",
        "}\n",
        "from types import SimpleNamespace\n",
        "cfg = SimpleNamespace(**cfg)\n",
        "dataprocessor = MNISTLoader(cfg, None)\n",
        "x_train, y_train, x_test, y_test = dataprocessor.load_dataset()\n",
        "model = LinearModelGradBasedDropV2(cfg, \"\", 28*28, dataprocessor)\n",
        "model.fit(x_train, y_train)\n",
        "evaluate(cfg, model, x_train, x_test, y_train, y_test)"
      ],
      "metadata": {
        "id": "TwOA_7hqiYvQ",
        "colab": {
          "base_uri": "https://localhost:8080/",
          "height": 1315
        },
        "outputId": "ec674882-a5d4-4926-a1bc-6dbdd0084414"
      },
      "execution_count": 18,
      "outputs": [
        {
          "output_type": "stream",
          "name": "stdout",
          "text": [
            "Train: 55996\n",
            "Test: 14004\n",
            "Max sample per class: 7877\n",
            "epoch: 1 step: 1000/1750 loss: 0.5718851089477539\n",
            "epoch: 1 loss: 0.9616235058403578\n",
            "epoch: 2 step: 1000/1750 loss: 0.5691922307014465\n",
            "epoch: 2 loss: 0.46891788275369617\n",
            "epoch: 3 step: 1000/1750 loss: 0.5797828435897827\n",
            "epoch: 3 loss: 0.6027561921693517\n",
            "epoch: 4 step: 1000/1750 loss: 2.303830623626709\n",
            "epoch: 4 loss: 2631.6875376388007\n",
            "epoch: 5 step: 1000/1750 loss: 6.6595330238342285\n",
            "epoch: 5 loss: 3564.3650047250476\n",
            "epoch: 6 step: 1000/1750 loss: 2.3030471801757812\n",
            "epoch: 6 loss: 6.96329794379643\n",
            "epoch: 7 step: 1000/1750 loss: 2.302854299545288\n",
            "epoch: 7 loss: 5.021369364465986\n",
            "epoch: 8 step: 1000/1750 loss: 2.3027234077453613\n",
            "epoch: 8 loss: 8.007569660050528\n",
            "epoch: 9 step: 1000/1750 loss: 2.302631139755249\n",
            "epoch: 9 loss: 3.8535209272929603\n",
            "epoch: 10 step: 1000/1750 loss: 2.3025712966918945\n",
            "epoch: 10 loss: 4.619808100019182\n"
          ]
        },
        {
          "output_type": "stream",
          "name": "stderr",
          "text": [
            "/usr/local/lib/python3.7/dist-packages/sklearn/metrics/_classification.py:1318: UndefinedMetricWarning: Precision is ill-defined and being set to 0.0 in labels with no predicted samples. Use `zero_division` parameter to control this behavior.\n",
            "  _warn_prf(average, modifier, msg_start, len(result))\n",
            "/usr/local/lib/python3.7/dist-packages/sklearn/metrics/_classification.py:1318: UndefinedMetricWarning: Precision is ill-defined and being set to 0.0 in labels with no predicted samples. Use `zero_division` parameter to control this behavior.\n",
            "  _warn_prf(average, modifier, msg_start, len(result))\n"
          ]
        },
        {
          "output_type": "stream",
          "name": "stdout",
          "text": [
            "Train\n",
            "Accuracy = 0.11252589470676477\n",
            "F1 Score = 0.020230851968984283\n",
            "Precision = 0.17792166809564636\n",
            "Recall = 0.10003918176229372\n",
            "Geometric Mean = 0.0\n",
            "\n",
            "\n",
            "Test\n",
            "Accuracy = 0.11246786632390746\n",
            "F1 Score = 0.02022212235988958\n",
            "Precision = 0.31125714285714284\n",
            "Recall = 0.10007326007326008\n",
            "Geometric Mean = 0.0\n",
            "\n"
          ]
        },
        {
          "output_type": "display_data",
          "data": {
            "text/plain": [
              "<Figure size 432x288 with 1 Axes>"
            ],
            "image/png": "[encoded data removed]"
          },
          "metadata": {
            "needs_background": "light"
          }
        },
        {
          "output_type": "display_data",
          "data": {
            "text/plain": [
              "<Figure size 432x288 with 1 Axes>"
            ],
            "image/png": "[encoded data removed]"
          },
          "metadata": {
            "needs_background": "light"
          }
        }
      ]
    },
    {
      "cell_type": "code",
      "source": [
        "cfg = {\n",
        "    'OUTPUT_TYPE': 'NUMBERS', \n",
        "    'PROB_METHOD': 'ABS_NORM',\n",
        "    'DROP_PROB': 0.2,\n",
        "    'LOSS': 'NLLLoss',\n",
        "    'OPTIMIZER': 'SGD',\n",
        "    'PRINT_EVERY': 1000,\n",
        "    'LR': 0.001,\n",
        "    'EPOCH': 10,\n",
        "    'LOAD_METHOD': 'ORIGINAL',\n",
        "    'BATCH_SIZE': 32,\n",
        "    'EVALUATION_METHODS': ['ACCURACY', 'F1_SCORE', 'PRECISION', 'RECALL', 'GMEAN'],\n",
        "}\n",
        "from types import SimpleNamespace\n",
        "cfg = SimpleNamespace(**cfg)\n",
        "dataprocessor = MNISTLoader(cfg, None)\n",
        "x_train, y_train, x_test, y_test = dataprocessor.load_dataset()\n",
        "model = LinearModelGradBasedDropV2(cfg, \"\", 28*28, dataprocessor)\n",
        "model.fit(x_train, y_train)\n",
        "evaluate(cfg, model, x_train, x_test, y_train, y_test)"
      ],
      "metadata": {
        "id": "MaNbkKKvilDX",
        "colab": {
          "base_uri": "https://localhost:8080/",
          "height": 1228
        },
        "outputId": "2c0cb951-32af-4d12-8234-a38c07be1f95"
      },
      "execution_count": 19,
      "outputs": [
        {
          "output_type": "stream",
          "name": "stdout",
          "text": [
            "Train: 55996\n",
            "Test: 14004\n",
            "Max sample per class: 7877\n",
            "epoch: 1 step: 1000/1750 loss: 0.17875219881534576\n",
            "epoch: 1 loss: 1.0408357583198034\n",
            "epoch: 2 step: 1000/1750 loss: 0.13760264217853546\n",
            "epoch: 2 loss: 0.10929926648641412\n",
            "epoch: 3 step: 1000/1750 loss: 0.13694100081920624\n",
            "epoch: 3 loss: 0.04830418701889201\n",
            "epoch: 4 step: 1000/1750 loss: 0.004366183187812567\n",
            "epoch: 4 loss: 0.0319215915948185\n",
            "epoch: 5 step: 1000/1750 loss: 0.006917936727404594\n",
            "epoch: 5 loss: 0.017964033492429216\n",
            "epoch: 6 step: 1000/1750 loss: 0.00887281447649002\n",
            "epoch: 6 loss: 0.011255625382894388\n",
            "epoch: 7 step: 1000/1750 loss: 0.010145601816475391\n",
            "epoch: 7 loss: 0.009234168312848137\n",
            "epoch: 8 step: 1000/1750 loss: 0.0015863145235925913\n",
            "epoch: 8 loss: 0.007858240325012244\n",
            "epoch: 9 step: 1000/1750 loss: 0.0012151137925684452\n",
            "epoch: 9 loss: 0.005795208239925744\n",
            "epoch: 10 step: 1000/1750 loss: 0.0004925458342768252\n",
            "epoch: 10 loss: 0.008023003576059994\n",
            "Train\n",
            "Accuracy = 0.9974998214158154\n",
            "F1 Score = 0.9976416637914504\n",
            "Precision = 0.9971621253692591\n",
            "Recall = 0.99711252767221\n",
            "Geometric Mean = 0.997307238719649\n",
            "\n",
            "\n",
            "Test\n",
            "Accuracy = 0.9699371608111969\n",
            "F1 Score = 0.9709430798025922\n",
            "Precision = 0.9709498676651089\n",
            "Recall = 0.9698505816166805\n",
            "Geometric Mean = 0.9704184904750864\n",
            "\n"
          ]
        },
        {
          "output_type": "display_data",
          "data": {
            "text/plain": [
              "<Figure size 432x288 with 1 Axes>"
            ],
            "image/png": "[encoded data removed]"
          },
          "metadata": {
            "needs_background": "light"
          }
        },
        {
          "output_type": "display_data",
          "data": {
            "text/plain": [
              "<Figure size 432x288 with 1 Axes>"
            ],
            "image/png": "[encoded data removed]"
          },
          "metadata": {
            "needs_background": "light"
          }
        }
      ]
    },
    {
      "cell_type": "code",
      "source": [
        "cfg = {\n",
        "    'OUTPUT_TYPE': 'NUMBERS', \n",
        "    'PROB_METHOD': 'ABS_NORM',\n",
        "    'LOSS': 'NLLLoss',\n",
        "    'OPTIMIZER': 'SGD',\n",
        "    'PRINT_EVERY': 1000,\n",
        "    'LR': 0.001,\n",
        "    'EPOCH': 10,\n",
        "    'LOAD_METHOD': 'ORIGINAL',\n",
        "    'BATCH_SIZE': 32,\n",
        "    'EVALUATION_METHODS': ['ACCURACY', 'F1_SCORE', 'PRECISION', 'RECALL', 'GMEAN'],\n",
        "}\n",
        "from types import SimpleNamespace\n",
        "cfg = SimpleNamespace(**cfg)\n",
        "dataprocessor = MNISTLoader(cfg, None)\n",
        "x_train, y_train, x_test, y_test = dataprocessor.load_dataset()\n",
        "model = LinearModelGradBasedDropV2(cfg, \"\", 28*28, dataprocessor)\n",
        "model.fit(x_train, y_train)\n",
        "evaluate(cfg, model, x_train, x_test, y_train, y_test)"
      ],
      "metadata": {
        "id": "EQWVH1qQilKX",
        "colab": {
          "base_uri": "https://localhost:8080/",
          "height": 1305
        },
        "outputId": "7674c6c8-e173-4f59-d304-3e0bbd9eb84b"
      },
      "execution_count": 20,
      "outputs": [
        {
          "output_type": "stream",
          "name": "stdout",
          "text": [
            "Train: 55996\n",
            "Test: 14004\n",
            "Max sample per class: 7877\n",
            "epoch: 1 step: 1000/1750 loss: 0.27550429105758667\n",
            "epoch: 1 loss: 0.9878412669034432\n",
            "epoch: 2 step: 1000/1750 loss: 0.6295193433761597\n",
            "epoch: 2 loss: 0.5343787765923979\n",
            "epoch: 3 step: 1000/1750 loss: 0.04518701508641243\n",
            "epoch: 3 loss: 0.3075797879516779\n",
            "epoch: 4 step: 1000/1750 loss: 1.0114892721176147\n",
            "epoch: 4 loss: 0.32634948969575844\n",
            "epoch: 5 step: 1000/1750 loss: 0.00747164711356163\n",
            "epoch: 5 loss: 0.27163126846021207\n",
            "epoch: 6 step: 1000/1750 loss: 0.1232585608959198\n",
            "epoch: 6 loss: 0.5898744102283381\n",
            "epoch: 7 step: 1000/1750 loss: 2.7496249675750732\n",
            "epoch: 7 loss: 1.873542337502752\n",
            "epoch: 8 step: 1000/1750 loss: 2.2333977222442627\n",
            "epoch: 8 loss: 9.383105562278203\n",
            "epoch: 9 step: 1000/1750 loss: 2.296586036682129\n",
            "epoch: 9 loss: 2.46612094770159\n",
            "epoch: 10 step: 1000/1750 loss: 2.297323703765869\n",
            "epoch: 10 loss: 2.595845167704991\n"
          ]
        },
        {
          "output_type": "stream",
          "name": "stderr",
          "text": [
            "/usr/local/lib/python3.7/dist-packages/sklearn/metrics/_classification.py:1318: UndefinedMetricWarning: Precision is ill-defined and being set to 0.0 in labels with no predicted samples. Use `zero_division` parameter to control this behavior.\n",
            "  _warn_prf(average, modifier, msg_start, len(result))\n",
            "/usr/local/lib/python3.7/dist-packages/sklearn/metrics/_classification.py:1318: UndefinedMetricWarning: Precision is ill-defined and being set to 0.0 in labels with no predicted samples. Use `zero_division` parameter to control this behavior.\n",
            "  _warn_prf(average, modifier, msg_start, len(result))\n"
          ]
        },
        {
          "output_type": "stream",
          "name": "stdout",
          "text": [
            "Train\n",
            "Accuracy = 0.09754268162011573\n",
            "F1 Score = 0.01787736826442701\n",
            "Precision = 0.10975087061344764\n",
            "Recall = 0.10003694287838108\n",
            "Geometric Mean = 0.0\n",
            "\n",
            "\n",
            "Test\n",
            "Accuracy = 0.09768637532133675\n",
            "F1 Score = 0.017764185320145755\n",
            "Precision = 0.009747215081405313\n",
            "Recall = 0.1\n",
            "Geometric Mean = 0.0\n",
            "\n"
          ]
        },
        {
          "output_type": "display_data",
          "data": {
            "text/plain": [
              "<Figure size 432x288 with 1 Axes>"
            ],
            "image/png": "[encoded data removed]"
          },
          "metadata": {
            "needs_background": "light"
          }
        },
        {
          "output_type": "display_data",
          "data": {
            "text/plain": [
              "<Figure size 432x288 with 1 Axes>"
            ],
            "image/png": "[encoded data removed]"
          },
          "metadata": {
            "needs_background": "light"
          }
        }
      ]
    },
    {
      "cell_type": "code",
      "source": [
        "cfg = {\n",
        "    'OUTPUT_TYPE': 'NUMBERS', \n",
        "    'PROB_METHOD': 'TANH',\n",
        "    'LOSS': 'NLLLoss',\n",
        "    'OPTIMIZER': 'SGD',\n",
        "    'PRINT_EVERY': 1000,\n",
        "    'LR': 0.001,\n",
        "    'EPOCH': 10,\n",
        "    'LOAD_METHOD': 'ORIGINAL',\n",
        "    'BATCH_SIZE': 32,\n",
        "    'EVALUATION_METHODS': ['ACCURACY', 'F1_SCORE', 'PRECISION', 'RECALL', 'GMEAN'],\n",
        "}\n",
        "from types import SimpleNamespace\n",
        "cfg = SimpleNamespace(**cfg)\n",
        "dataprocessor = MNISTLoader(cfg, None)\n",
        "x_train, y_train, x_test, y_test = dataprocessor.load_dataset()\n",
        "model = LinearModelGradBasedDropV2(cfg, \"\", 28*28, dataprocessor)\n",
        "model.fit(x_train, y_train)\n",
        "evaluate(cfg, model, x_train, x_test, y_train, y_test)"
      ],
      "metadata": {
        "id": "cLFwiBCvilRf",
        "colab": {
          "base_uri": "https://localhost:8080/",
          "height": 1228
        },
        "outputId": "e6febbc8-3799-4d10-fe6a-8f34528de18f"
      },
      "execution_count": 21,
      "outputs": [
        {
          "output_type": "stream",
          "name": "stdout",
          "text": [
            "Train: 55996\n",
            "Test: 14004\n",
            "Max sample per class: 7877\n",
            "epoch: 1 step: 1000/1750 loss: 0.19261780381202698\n",
            "epoch: 1 loss: 1.0113880282313288\n",
            "epoch: 2 step: 1000/1750 loss: 0.08258350938558578\n",
            "epoch: 2 loss: 0.08105683845625962\n",
            "epoch: 3 step: 1000/1750 loss: 0.012467703782022\n",
            "epoch: 3 loss: 0.023689771253963824\n",
            "epoch: 4 step: 1000/1750 loss: 0.013186579570174217\n",
            "epoch: 4 loss: 0.007600815278882562\n",
            "epoch: 5 step: 1000/1750 loss: 0.0063889664597809315\n",
            "epoch: 5 loss: 0.002705013506420073\n",
            "epoch: 6 step: 1000/1750 loss: 0.0018767229048535228\n",
            "epoch: 6 loss: 0.0013265342492994542\n",
            "epoch: 7 step: 1000/1750 loss: 0.00099697127006948\n",
            "epoch: 7 loss: 0.0008654002156279148\n",
            "epoch: 8 step: 1000/1750 loss: 0.0006560446927323937\n",
            "epoch: 8 loss: 0.0007568832023443\n",
            "epoch: 9 step: 1000/1750 loss: 0.0005475401412695646\n",
            "epoch: 9 loss: 0.0006447338958613987\n",
            "epoch: 10 step: 1000/1750 loss: 0.0004569941957015544\n",
            "epoch: 10 loss: 0.0005806320780206826\n",
            "Train\n",
            "Accuracy = 0.9999821415815415\n",
            "F1 Score = 0.9999823749457899\n",
            "Precision = 0.9999818938982437\n",
            "Recall = 0.9999828591018168\n",
            "Geometric Mean = 0.9999630543740545\n",
            "\n",
            "\n",
            "Test\n",
            "Accuracy = 0.9732933447586404\n",
            "F1 Score = 0.9724285195415708\n",
            "Precision = 0.9725863284949453\n",
            "Recall = 0.9726754798912726\n",
            "Geometric Mean = 0.9729427509528369\n",
            "\n"
          ]
        },
        {
          "output_type": "display_data",
          "data": {
            "text/plain": [
              "<Figure size 432x288 with 1 Axes>"
            ],
            "image/png": "[encoded data removed]"
          },
          "metadata": {
            "needs_background": "light"
          }
        },
        {
          "output_type": "display_data",
          "data": {
            "text/plain": [
              "<Figure size 432x288 with 1 Axes>"
            ],
            "image/png": "[encoded data removed]"
          },
          "metadata": {
            "needs_background": "light"
          }
        }
      ]
    },
    {
      "cell_type": "code",
      "source": [
        "cfg = {\n",
        "    'OUTPUT_TYPE': 'NUMBERS', \n",
        "    'PROB_METHOD': 'TANH',\n",
        "    'DROP_PROB': 0.2,\n",
        "    'LOSS': 'NLLLoss',\n",
        "    'OPTIMIZER': 'SGD',\n",
        "    'PRINT_EVERY': 1000,\n",
        "    'LR': 0.001,\n",
        "    'EPOCH': 10,\n",
        "    'LOAD_METHOD': 'ORIGINAL',\n",
        "    'BATCH_SIZE': 32,\n",
        "    'EVALUATION_METHODS': ['ACCURACY', 'F1_SCORE', 'PRECISION', 'RECALL', 'GMEAN'],\n",
        "}\n",
        "from types import SimpleNamespace\n",
        "cfg = SimpleNamespace(**cfg)\n",
        "dataprocessor = MNISTLoader(cfg, None)\n",
        "x_train, y_train, x_test, y_test = dataprocessor.load_dataset()\n",
        "model = LinearModelGradBasedDropV2(cfg, \"\", 28*28, dataprocessor)\n",
        "model.fit(x_train, y_train)\n",
        "evaluate(cfg, model, x_train, x_test, y_train, y_test)"
      ],
      "metadata": {
        "id": "2E0FDrdwuOQb",
        "colab": {
          "base_uri": "https://localhost:8080/",
          "height": 1228
        },
        "outputId": "6720486c-c7f2-4ffa-a44a-71b7296268db"
      },
      "execution_count": 22,
      "outputs": [
        {
          "output_type": "stream",
          "name": "stdout",
          "text": [
            "Train: 55996\n",
            "Test: 14004\n",
            "Max sample per class: 7877\n",
            "epoch: 1 step: 1000/1750 loss: 0.2206256091594696\n",
            "epoch: 1 loss: 0.9868855216024931\n",
            "epoch: 2 step: 1000/1750 loss: 0.017056219279766083\n",
            "epoch: 2 loss: 0.07584653156180866\n",
            "epoch: 3 step: 1000/1750 loss: 0.001566875260323286\n",
            "epoch: 3 loss: 0.02121777043311054\n",
            "epoch: 4 step: 1000/1750 loss: 0.0017765254015102983\n",
            "epoch: 4 loss: 0.006706820813275369\n",
            "epoch: 5 step: 1000/1750 loss: 0.0009990779217332602\n",
            "epoch: 5 loss: 0.002315118805360271\n",
            "epoch: 6 step: 1000/1750 loss: 0.0008456911891698837\n",
            "epoch: 6 loss: 0.0011800973836549977\n",
            "epoch: 7 step: 1000/1750 loss: 0.0007699248963035643\n",
            "epoch: 7 loss: 0.0008748489718005723\n",
            "epoch: 8 step: 1000/1750 loss: 0.0007383797783404589\n",
            "epoch: 8 loss: 0.0007321296154299911\n",
            "epoch: 9 step: 1000/1750 loss: 0.0005527885514311492\n",
            "epoch: 9 loss: 0.0006447135296888534\n",
            "epoch: 10 step: 1000/1750 loss: 0.0007195618818514049\n",
            "epoch: 10 loss: 0.000562211291470289\n",
            "Train\n",
            "Accuracy = 1.0\n",
            "F1 Score = 1.0\n",
            "Precision = 1.0\n",
            "Recall = 1.0\n",
            "Geometric Mean = 1.0\n",
            "\n",
            "\n",
            "Test\n",
            "Accuracy = 0.9730791202513568\n",
            "F1 Score = 0.9735318576831407\n",
            "Precision = 0.973000103655964\n",
            "Recall = 0.9734088170329906\n",
            "Geometric Mean = 0.9731577969384266\n",
            "\n"
          ]
        },
        {
          "output_type": "display_data",
          "data": {
            "text/plain": [
              "<Figure size 432x288 with 1 Axes>"
            ],
            "image/png": "[encoded data removed]"
          },
          "metadata": {
            "needs_background": "light"
          }
        },
        {
          "output_type": "display_data",
          "data": {
            "text/plain": [
              "<Figure size 432x288 with 1 Axes>"
            ],
            "image/png": "[encoded data removed]"
          },
          "metadata": {
            "needs_background": "light"
          }
        }
      ]
    },
    {
      "cell_type": "markdown",
      "source": [
        "# V3"
      ],
      "metadata": {
        "id": "aGg46X9nm-ah"
      }
    },
    {
      "cell_type": "code",
      "source": [
        "cfg = {\n",
        "    'OUTPUT_TYPE': 'NUMBERS', \n",
        "    'PROB_METHOD': 'NORM',\n",
        "    'DROP_PROB': 0.2,\n",
        "    'LOSS': 'NLLLoss',\n",
        "    'OPTIMIZER': 'SGD',\n",
        "    'PRINT_EVERY': 1000,\n",
        "    'LR': 0.001,\n",
        "    'EPOCH': 10,\n",
        "    'LOAD_METHOD': 'ORIGINAL',\n",
        "    'BATCH_SIZE': 32,\n",
        "    'EVALUATION_METHODS': ['ACCURACY', 'F1_SCORE', 'PRECISION', 'RECALL', 'GMEAN'],\n",
        "}\n",
        "from types import SimpleNamespace\n",
        "cfg = SimpleNamespace(**cfg)\n",
        "dataprocessor = MNISTLoader(cfg, None)\n",
        "x_train, y_train, x_test, y_test = dataprocessor.load_dataset()\n",
        "model = LinearModelGradBasedDropV3(cfg, \"\", 28*28, dataprocessor)\n",
        "model.fit(x_train, y_train)\n",
        "evaluate(cfg, model, x_train, x_test, y_train, y_test)"
      ],
      "metadata": {
        "id": "cslg4VGhm7g8",
        "colab": {
          "base_uri": "https://localhost:8080/",
          "height": 1228
        },
        "outputId": "16225ff7-9e18-4523-c91e-3e81e57b59db"
      },
      "execution_count": 43,
      "outputs": [
        {
          "output_type": "stream",
          "name": "stdout",
          "text": [
            "Train: 55996\n",
            "Test: 14004\n",
            "Max sample per class: 7877\n",
            "epoch: 1 step: 1000/1750 loss: 0.7016294002532959\n",
            "epoch: 1 loss: 1.0218544332619057\n",
            "epoch: 2 step: 1000/1750 loss: 0.29923564195632935\n",
            "epoch: 2 loss: 0.11079174949019736\n",
            "epoch: 3 step: 1000/1750 loss: 0.03483475372195244\n",
            "epoch: 3 loss: 0.05341003689313116\n",
            "epoch: 4 step: 1000/1750 loss: 0.008622521534562111\n",
            "epoch: 4 loss: 0.0300887540530192\n",
            "epoch: 5 step: 1000/1750 loss: 0.0043130856938660145\n",
            "epoch: 5 loss: 0.023227700113349785\n",
            "epoch: 6 step: 1000/1750 loss: 0.023361001163721085\n",
            "epoch: 6 loss: 0.014503974413030214\n",
            "epoch: 7 step: 1000/1750 loss: 0.018564384430646896\n",
            "epoch: 7 loss: 0.01009365814281458\n",
            "epoch: 8 step: 1000/1750 loss: 0.004436261486262083\n",
            "epoch: 8 loss: 0.008434306914303696\n",
            "epoch: 9 step: 1000/1750 loss: 0.0027680613566190004\n",
            "epoch: 9 loss: 0.00641749244385977\n",
            "epoch: 10 step: 1000/1750 loss: 0.159976527094841\n",
            "epoch: 10 loss: 0.00545668831269884\n",
            "Train\n",
            "Accuracy = 0.9983748839202801\n",
            "F1 Score = 0.9985305730628484\n",
            "Precision = 0.9983812497424941\n",
            "Recall = 0.9984970087797016\n",
            "Geometric Mean = 0.9982096154638662\n",
            "\n",
            "\n",
            "Test\n",
            "Accuracy = 0.9737932019423022\n",
            "F1 Score = 0.9735116600900021\n",
            "Precision = 0.9719855618867654\n",
            "Recall = 0.9738196974886926\n",
            "Geometric Mean = 0.972780537280791\n",
            "\n"
          ]
        },
        {
          "output_type": "display_data",
          "data": {
            "text/plain": [
              "<Figure size 432x288 with 1 Axes>"
            ],
            "image/png": "[encoded data removed]"
          },
          "metadata": {
            "needs_background": "light"
          }
        },
        {
          "output_type": "display_data",
          "data": {
            "text/plain": [
              "<Figure size 432x288 with 1 Axes>"
            ],
            "image/png": "[encoded data removed]"
          },
          "metadata": {
            "needs_background": "light"
          }
        }
      ]
    },
    {
      "cell_type": "code",
      "source": [
        "cfg = {\n",
        "    'OUTPUT_TYPE': 'NUMBERS', \n",
        "    'PROB_METHOD': 'NORM',\n",
        "    'LOSS': 'NLLLoss',\n",
        "    'OPTIMIZER': 'SGD',\n",
        "    'PRINT_EVERY': 1000,\n",
        "    'LR': 0.001,\n",
        "    'EPOCH': 10,\n",
        "    'LOAD_METHOD': 'ORIGINAL',\n",
        "    'BATCH_SIZE': 32,\n",
        "    'EVALUATION_METHODS': ['ACCURACY', 'F1_SCORE', 'PRECISION', 'RECALL', 'GMEAN'],\n",
        "}\n",
        "from types import SimpleNamespace\n",
        "cfg = SimpleNamespace(**cfg)\n",
        "dataprocessor = MNISTLoader(cfg, None)\n",
        "x_train, y_train, x_test, y_test = dataprocessor.load_dataset()\n",
        "model = LinearModelGradBasedDropV3(cfg, \"\", 28*28, dataprocessor)\n",
        "model.fit(x_train, y_train)\n",
        "evaluate(cfg, model, x_train, x_test, y_train, y_test)"
      ],
      "metadata": {
        "id": "VVqx5kimm7hC",
        "colab": {
          "base_uri": "https://localhost:8080/",
          "height": 1315
        },
        "outputId": "e2305aa3-9111-4b42-e7ce-ae53d0a3d61a"
      },
      "execution_count": 44,
      "outputs": [
        {
          "output_type": "stream",
          "name": "stdout",
          "text": [
            "Train: 55996\n",
            "Test: 14004\n",
            "Max sample per class: 7877\n",
            "epoch: 1 step: 1000/1750 loss: 0.05349462106823921\n",
            "epoch: 1 loss: 1.144485065482981\n",
            "epoch: 2 step: 1000/1750 loss: 0.3111937642097473\n",
            "epoch: 2 loss: 1.3390824191753885\n",
            "epoch: 3 step: 1000/1750 loss: 2.303762435913086\n",
            "epoch: 3 loss: 8323.822286478315\n",
            "epoch: 4 step: 1000/1750 loss: 2.30330491065979\n",
            "epoch: 4 loss: 5.199833769798278\n",
            "epoch: 5 step: 1000/1750 loss: 2.3030219078063965\n",
            "epoch: 5 loss: 8.04528254209246\n",
            "epoch: 6 step: 1000/1750 loss: 2.3028228282928467\n",
            "epoch: 6 loss: 4.064206084387643\n",
            "epoch: 7 step: 1000/1750 loss: 2.3026859760284424\n",
            "epoch: 7 loss: 7.69857897581373\n",
            "epoch: 8 step: 1000/1750 loss: 2.3025946617126465\n",
            "epoch: 8 loss: 86.41037832096644\n",
            "epoch: 9 step: 1000/1750 loss: 2.302544355392456\n",
            "epoch: 9 loss: 9.749045193127223\n",
            "epoch: 10 step: 1000/1750 loss: 2.3025057315826416\n",
            "epoch: 10 loss: 5.743791197504316\n"
          ]
        },
        {
          "output_type": "stream",
          "name": "stderr",
          "text": [
            "/usr/local/lib/python3.7/dist-packages/sklearn/metrics/_classification.py:1318: UndefinedMetricWarning: Precision is ill-defined and being set to 0.0 in labels with no predicted samples. Use `zero_division` parameter to control this behavior.\n",
            "  _warn_prf(average, modifier, msg_start, len(result))\n",
            "/usr/local/lib/python3.7/dist-packages/sklearn/metrics/_classification.py:1318: UndefinedMetricWarning: Precision is ill-defined and being set to 0.0 in labels with no predicted samples. Use `zero_division` parameter to control this behavior.\n",
            "  _warn_prf(average, modifier, msg_start, len(result))\n"
          ]
        },
        {
          "output_type": "stream",
          "name": "stdout",
          "text": [
            "Train\n",
            "Accuracy = 0.11256161154368169\n",
            "F1 Score = 0.020443886447934382\n",
            "Precision = 0.11125221025558592\n",
            "Recall = 0.10008919747613709\n",
            "Geometric Mean = 0.0\n",
            "\n",
            "\n",
            "Test\n",
            "Accuracy = 0.112539274493002\n",
            "F1 Score = 0.020379574962455304\n",
            "Precision = 0.011254731129043776\n",
            "Recall = 0.09993654822335026\n",
            "Geometric Mean = 0.0\n",
            "\n"
          ]
        },
        {
          "output_type": "display_data",
          "data": {
            "text/plain": [
              "<Figure size 432x288 with 1 Axes>"
            ],
            "image/png": "[encoded data removed]"
          },
          "metadata": {
            "needs_background": "light"
          }
        },
        {
          "output_type": "display_data",
          "data": {
            "text/plain": [
              "<Figure size 432x288 with 1 Axes>"
            ],
            "image/png": "[encoded data removed]"
          },
          "metadata": {
            "needs_background": "light"
          }
        }
      ]
    },
    {
      "cell_type": "code",
      "source": [
        "cfg = {\n",
        "    'OUTPUT_TYPE': 'NUMBERS', \n",
        "    'PROB_METHOD': 'ABS_NORM',\n",
        "    'DROP_PROB': 0.2,\n",
        "    'LOSS': 'NLLLoss',\n",
        "    'OPTIMIZER': 'SGD',\n",
        "    'PRINT_EVERY': 1000,\n",
        "    'LR': 0.001,\n",
        "    'EPOCH': 10,\n",
        "    'LOAD_METHOD': 'ORIGINAL',\n",
        "    'BATCH_SIZE': 32,\n",
        "    'EVALUATION_METHODS': ['ACCURACY', 'F1_SCORE', 'PRECISION', 'RECALL', 'GMEAN'],\n",
        "}\n",
        "from types import SimpleNamespace\n",
        "cfg = SimpleNamespace(**cfg)\n",
        "dataprocessor = MNISTLoader(cfg, None)\n",
        "x_train, y_train, x_test, y_test = dataprocessor.load_dataset()\n",
        "model = LinearModelGradBasedDropV3(cfg, \"\", 28*28, dataprocessor)\n",
        "model.fit(x_train, y_train)\n",
        "evaluate(cfg, model, x_train, x_test, y_train, y_test)"
      ],
      "metadata": {
        "id": "GHIVC2Ywm7hC",
        "colab": {
          "base_uri": "https://localhost:8080/",
          "height": 1228
        },
        "outputId": "3dd767e7-cced-47a6-f9b3-4baead58f015"
      },
      "execution_count": 45,
      "outputs": [
        {
          "output_type": "stream",
          "name": "stdout",
          "text": [
            "Train: 55996\n",
            "Test: 14004\n",
            "Max sample per class: 7877\n",
            "epoch: 1 step: 1000/1750 loss: 0.06304420530796051\n",
            "epoch: 1 loss: 1.0598770314888222\n",
            "epoch: 2 step: 1000/1750 loss: 0.08151954412460327\n",
            "epoch: 2 loss: 0.11732136907606452\n",
            "epoch: 3 step: 1000/1750 loss: 0.032574668526649475\n",
            "epoch: 3 loss: 0.06281062100186319\n",
            "epoch: 4 step: 1000/1750 loss: 0.3553709089756012\n",
            "epoch: 4 loss: 0.03880219416357327\n",
            "epoch: 5 step: 1000/1750 loss: 0.009898316115140915\n",
            "epoch: 5 loss: 0.024006452280395805\n",
            "epoch: 6 step: 1000/1750 loss: 0.01681656949222088\n",
            "epoch: 6 loss: 0.01830512463447225\n",
            "epoch: 7 step: 1000/1750 loss: 0.006027099210768938\n",
            "epoch: 7 loss: 0.013988324498652739\n",
            "epoch: 8 step: 1000/1750 loss: 0.02232290990650654\n",
            "epoch: 8 loss: 0.009793682360157619\n",
            "epoch: 9 step: 1000/1750 loss: 0.020736509934067726\n",
            "epoch: 9 loss: 0.008922041011025223\n",
            "epoch: 10 step: 1000/1750 loss: 0.0019574910402297974\n",
            "epoch: 10 loss: 0.007969673889256878\n",
            "Train\n",
            "Accuracy = 0.9982498749910708\n",
            "F1 Score = 0.9980524455734372\n",
            "Precision = 0.998204354479129\n",
            "Recall = 0.9980681766277684\n",
            "Geometric Mean = 0.9981775916941168\n",
            "\n",
            "\n",
            "Test\n",
            "Accuracy = 0.9708654670094259\n",
            "F1 Score = 0.9719168079978144\n",
            "Precision = 0.9719744207417762\n",
            "Recall = 0.971218573026594\n",
            "Geometric Mean = 0.9715675155475401\n",
            "\n"
          ]
        },
        {
          "output_type": "display_data",
          "data": {
            "text/plain": [
              "<Figure size 432x288 with 1 Axes>"
            ],
            "image/png": "[encoded data removed]"
          },
          "metadata": {
            "needs_background": "light"
          }
        },
        {
          "output_type": "display_data",
          "data": {
            "text/plain": [
              "<Figure size 432x288 with 1 Axes>"
            ],
            "image/png": "[encoded data removed]"
          },
          "metadata": {
            "needs_background": "light"
          }
        }
      ]
    },
    {
      "cell_type": "code",
      "source": [
        "cfg = {\n",
        "    'OUTPUT_TYPE': 'NUMBERS', \n",
        "    'PROB_METHOD': 'ABS_NORM',\n",
        "    'LOSS': 'NLLLoss',\n",
        "    'OPTIMIZER': 'SGD',\n",
        "    'PRINT_EVERY': 1000,\n",
        "    'LR': 0.001,\n",
        "    'EPOCH': 10,\n",
        "    'LOAD_METHOD': 'ORIGINAL',\n",
        "    'BATCH_SIZE': 32,\n",
        "    'EVALUATION_METHODS': ['ACCURACY', 'F1_SCORE', 'PRECISION', 'RECALL', 'GMEAN'],\n",
        "}\n",
        "from types import SimpleNamespace\n",
        "cfg = SimpleNamespace(**cfg)\n",
        "dataprocessor = MNISTLoader(cfg, None)\n",
        "x_train, y_train, x_test, y_test = dataprocessor.load_dataset()\n",
        "model = LinearModelGradBasedDropV3(cfg, \"\", 28*28, dataprocessor)\n",
        "model.fit(x_train, y_train)\n",
        "evaluate(cfg, model, x_train, x_test, y_train, y_test)"
      ],
      "metadata": {
        "id": "df7hxYUIm7hC",
        "colab": {
          "base_uri": "https://localhost:8080/",
          "height": 1228
        },
        "outputId": "e648d56f-a077-4861-8b67-956b0ddf0d55"
      },
      "execution_count": 46,
      "outputs": [
        {
          "output_type": "stream",
          "name": "stdout",
          "text": [
            "Train: 55996\n",
            "Test: 14004\n",
            "Max sample per class: 7877\n",
            "epoch: 1 step: 1000/1750 loss: 0.692058801651001\n",
            "epoch: 1 loss: 0.9919338019365054\n",
            "epoch: 2 step: 1000/1750 loss: 0.36491575837135315\n",
            "epoch: 2 loss: 1.082128643825251\n",
            "epoch: 3 step: 1000/1750 loss: 0.17559851706027985\n",
            "epoch: 3 loss: 0.6124341400553073\n",
            "epoch: 4 step: 1000/1750 loss: 0.6350250840187073\n",
            "epoch: 4 loss: 0.7705047082709414\n",
            "epoch: 5 step: 1000/1750 loss: 0.3939204812049866\n",
            "epoch: 5 loss: 0.5666447665425284\n",
            "epoch: 6 step: 1000/1750 loss: 0.47264811396598816\n",
            "epoch: 6 loss: 0.481816457248692\n",
            "epoch: 7 step: 1000/1750 loss: 1.1025646924972534\n",
            "epoch: 7 loss: 0.433923199539605\n",
            "epoch: 8 step: 1000/1750 loss: 0.49112656712532043\n",
            "epoch: 8 loss: 0.39180033279343374\n",
            "epoch: 9 step: 1000/1750 loss: 0.5327553153038025\n",
            "epoch: 9 loss: 0.365361393618597\n",
            "epoch: 10 step: 1000/1750 loss: 0.48418471217155457\n",
            "epoch: 10 loss: 0.3403498069295227\n",
            "Train\n",
            "Accuracy = 0.9224766054718194\n",
            "F1 Score = 0.9216934534252594\n",
            "Precision = 0.9230837280867107\n",
            "Recall = 0.9220677988327045\n",
            "Geometric Mean = 0.9211058837786825\n",
            "\n",
            "\n",
            "Test\n",
            "Accuracy = 0.913953156241074\n",
            "F1 Score = 0.9080485279718953\n",
            "Precision = 0.9113653340774773\n",
            "Recall = 0.9126978418798719\n",
            "Geometric Mean = 0.9080915205693846\n",
            "\n"
          ]
        },
        {
          "output_type": "display_data",
          "data": {
            "text/plain": [
              "<Figure size 432x288 with 1 Axes>"
            ],
            "image/png": "[encoded data removed]"
          },
          "metadata": {
            "needs_background": "light"
          }
        },
        {
          "output_type": "display_data",
          "data": {
            "text/plain": [
              "<Figure size 432x288 with 1 Axes>"
            ],
            "image/png": "[encoded data removed]"
          },
          "metadata": {
            "needs_background": "light"
          }
        }
      ]
    },
    {
      "cell_type": "code",
      "source": [
        "cfg = {\n",
        "    'OUTPUT_TYPE': 'NUMBERS', \n",
        "    'PROB_METHOD': 'TANH',\n",
        "    'LOSS': 'NLLLoss',\n",
        "    'OPTIMIZER': 'SGD',\n",
        "    'PRINT_EVERY': 1000,\n",
        "    'LR': 0.001,\n",
        "    'EPOCH': 10,\n",
        "    'LOAD_METHOD': 'ORIGINAL',\n",
        "    'BATCH_SIZE': 32,\n",
        "    'EVALUATION_METHODS': ['ACCURACY', 'F1_SCORE', 'PRECISION', 'RECALL', 'GMEAN'],\n",
        "}\n",
        "from types import SimpleNamespace\n",
        "cfg = SimpleNamespace(**cfg)\n",
        "dataprocessor = MNISTLoader(cfg, None)\n",
        "x_train, y_train, x_test, y_test = dataprocessor.load_dataset()\n",
        "model = LinearModelGradBasedDropV3(cfg, \"\", 28*28, dataprocessor)\n",
        "model.fit(x_train, y_train)\n",
        "evaluate(cfg, model, x_train, x_test, y_train, y_test)"
      ],
      "metadata": {
        "id": "INHMPNCHm7hC",
        "colab": {
          "base_uri": "https://localhost:8080/",
          "height": 1228
        },
        "outputId": "f3f4030c-0fe4-452a-b1ea-300d44c7773b"
      },
      "execution_count": 47,
      "outputs": [
        {
          "output_type": "stream",
          "name": "stdout",
          "text": [
            "Train: 55996\n",
            "Test: 14004\n",
            "Max sample per class: 7877\n",
            "epoch: 1 step: 1000/1750 loss: 0.22388707101345062\n",
            "epoch: 1 loss: 1.092511439544656\n",
            "epoch: 2 step: 1000/1750 loss: 0.015101340599358082\n",
            "epoch: 2 loss: 0.07826519952043912\n",
            "epoch: 3 step: 1000/1750 loss: 0.01654331386089325\n",
            "epoch: 3 loss: 0.02268666438244275\n",
            "epoch: 4 step: 1000/1750 loss: 0.007008608430624008\n",
            "epoch: 4 loss: 0.007490560843946046\n",
            "epoch: 5 step: 1000/1750 loss: 0.006170809268951416\n",
            "epoch: 5 loss: 0.0030338365692348036\n",
            "epoch: 6 step: 1000/1750 loss: 0.003517580684274435\n",
            "epoch: 6 loss: 0.0016195429082143684\n",
            "epoch: 7 step: 1000/1750 loss: 0.0024154148995876312\n",
            "epoch: 7 loss: 0.0011394269865834627\n",
            "epoch: 8 step: 1000/1750 loss: 0.0017901655519381166\n",
            "epoch: 8 loss: 0.0009221217599078305\n",
            "epoch: 9 step: 1000/1750 loss: 0.0014714414719492197\n",
            "epoch: 9 loss: 0.0007850107090362144\n",
            "epoch: 10 step: 1000/1750 loss: 0.0012965522473677993\n",
            "epoch: 10 loss: 0.000687861597297472\n",
            "Train\n",
            "Accuracy = 1.0\n",
            "F1 Score = 1.0\n",
            "Precision = 1.0\n",
            "Recall = 1.0\n",
            "Geometric Mean = 1.0\n",
            "\n",
            "\n",
            "Test\n",
            "Accuracy = 0.9722936303913168\n",
            "F1 Score = 0.9721007726095297\n",
            "Precision = 0.9721293733619321\n",
            "Recall = 0.9720936506889034\n",
            "Geometric Mean = 0.9720380959778651\n",
            "\n"
          ]
        },
        {
          "output_type": "display_data",
          "data": {
            "text/plain": [
              "<Figure size 432x288 with 1 Axes>"
            ],
            "image/png": "[encoded data removed]"
          },
          "metadata": {
            "needs_background": "light"
          }
        },
        {
          "output_type": "display_data",
          "data": {
            "text/plain": [
              "<Figure size 432x288 with 1 Axes>"
            ],
            "image/png": "[encoded data removed]"
          },
          "metadata": {
            "needs_background": "light"
          }
        }
      ]
    },
    {
      "cell_type": "code",
      "source": [
        "cfg = {\n",
        "    'OUTPUT_TYPE': 'NUMBERS', \n",
        "    'PROB_METHOD': 'TANH',\n",
        "    'DROP_PROB': 0.2,\n",
        "    'LOSS': 'NLLLoss',\n",
        "    'OPTIMIZER': 'SGD',\n",
        "    'PRINT_EVERY': 1000,\n",
        "    'LR': 0.001,\n",
        "    'EPOCH': 10,\n",
        "    'LOAD_METHOD': 'ORIGINAL',\n",
        "    'BATCH_SIZE': 32,\n",
        "    'EVALUATION_METHODS': ['ACCURACY', 'F1_SCORE', 'PRECISION', 'RECALL', 'GMEAN'],\n",
        "}\n",
        "from types import SimpleNamespace\n",
        "cfg = SimpleNamespace(**cfg)\n",
        "dataprocessor = MNISTLoader(cfg, None)\n",
        "x_train, y_train, x_test, y_test = dataprocessor.load_dataset()\n",
        "model = LinearModelGradBasedDropV3(cfg, \"\", 28*28, dataprocessor)\n",
        "model.fit(x_train, y_train)\n",
        "evaluate(cfg, model, x_train, x_test, y_train, y_test)"
      ],
      "metadata": {
        "id": "yp4vZ_zwuQP8",
        "colab": {
          "base_uri": "https://localhost:8080/",
          "height": 1228
        },
        "outputId": "aef8712d-e40f-4907-841e-ece6d6e2a68a"
      },
      "execution_count": 48,
      "outputs": [
        {
          "output_type": "stream",
          "name": "stdout",
          "text": [
            "Train: 55996\n",
            "Test: 14004\n",
            "Max sample per class: 7877\n",
            "epoch: 1 step: 1000/1750 loss: 0.3690691292285919\n",
            "epoch: 1 loss: 0.991333815018108\n",
            "epoch: 2 step: 1000/1750 loss: 0.19311071932315826\n",
            "epoch: 2 loss: 0.07429775187818347\n",
            "epoch: 3 step: 1000/1750 loss: 0.003595785005018115\n",
            "epoch: 3 loss: 0.019702781645218367\n",
            "epoch: 4 step: 1000/1750 loss: 0.005569763015955687\n",
            "epoch: 4 loss: 0.006045683735211632\n",
            "epoch: 5 step: 1000/1750 loss: 0.011138911359012127\n",
            "epoch: 5 loss: 0.0023894679318304302\n",
            "epoch: 6 step: 1000/1750 loss: 0.0018849101616069674\n",
            "epoch: 6 loss: 0.0013114934888679792\n",
            "epoch: 7 step: 1000/1750 loss: 0.0014797915937379003\n",
            "epoch: 7 loss: 0.0009582854057409479\n",
            "epoch: 8 step: 1000/1750 loss: 0.001203066436573863\n",
            "epoch: 8 loss: 0.0007770999953213179\n",
            "epoch: 9 step: 1000/1750 loss: 0.0009920188458636403\n",
            "epoch: 9 loss: 0.0006628941818699202\n",
            "epoch: 10 step: 1000/1750 loss: 0.0008228850783780217\n",
            "epoch: 10 loss: 0.0005783218828185974\n",
            "Train\n",
            "Accuracy = 1.0\n",
            "F1 Score = 1.0\n",
            "Precision = 1.0\n",
            "Recall = 1.0\n",
            "Geometric Mean = 1.0\n",
            "\n",
            "\n",
            "Test\n",
            "Accuracy = 0.975078548986004\n",
            "F1 Score = 0.9748857150073501\n",
            "Precision = 0.9749201141798849\n",
            "Recall = 0.9748741791108776\n",
            "Geometric Mean = 0.9748310680934597\n",
            "\n"
          ]
        },
        {
          "output_type": "display_data",
          "data": {
            "text/plain": [
              "<Figure size 432x288 with 1 Axes>"
            ],
            "image/png": "[encoded data removed]"
          },
          "metadata": {
            "needs_background": "light"
          }
        },
        {
          "output_type": "display_data",
          "data": {
            "text/plain": [
              "<Figure size 432x288 with 1 Axes>"
            ],
            "image/png": "[encoded data removed]"
          },
          "metadata": {
            "needs_background": "light"
          }
        }
      ]
    },
    {
      "cell_type": "code",
      "source": [
        ""
      ],
      "metadata": {
        "id": "PwIsQ0PInFut"
      },
      "execution_count": 48,
      "outputs": []
    }
  ]
}